{
  "nbformat": 4,
  "nbformat_minor": 0,
  "metadata": {
    "colab": {
      "provenance": []
    },
    "kernelspec": {
      "name": "python3",
      "display_name": "Python 3"
    },
    "language_info": {
      "name": "python"
    }
  },
  "cells": [
    {
      "cell_type": "markdown",
      "source": [
        "KIDNEY STONE PREdICTION"
      ],
      "metadata": {
        "id": "QqRizi9tH0Gg"
      }
    },
    {
      "cell_type": "markdown",
      "source": [
        "1. BASICS "
      ],
      "metadata": {
        "id": "z0NFatwAH5An"
      }
    },
    {
      "cell_type": "code",
      "source": [
        "import pandas as pd\n",
        "import numpy as np\n",
        "from fastbook import *"
      ],
      "metadata": {
        "id": "f2XlQRC7H2YX"
      },
      "execution_count": null,
      "outputs": []
    },
    {
      "cell_type": "code",
      "source": [
        "\n",
        "!pip install -Uqq fastbook\n",
        "import fastbook\n",
        "fastbook.setup_book()"
      ],
      "metadata": {
        "id": "E-jPBbbJH2aq"
      },
      "execution_count": null,
      "outputs": []
    },
    {
      "cell_type": "code",
      "source": [
        "from fastai.vision.all import *\n",
        "path = Path('/content/gdrive/MyDrive/kidney')"
      ],
      "metadata": {
        "id": "J4CehVd4H2gz"
      },
      "execution_count": null,
      "outputs": []
    },
    {
      "cell_type": "markdown",
      "source": [
        "To count the images"
      ],
      "metadata": {
        "id": "ari6BfWJlN8U"
      }
    },
    {
      "cell_type": "code",
      "source": [
        "path = Path('/content/gdrive/MyDrive/kidney')\n",
        "for folder in path.glob('*'):\n",
        "    print(f\"{folder}: {len(list(folder.glob('*')))}\")\n",
        "\n"
      ],
      "metadata": {
        "colab": {
          "base_uri": "https://localhost:8080/"
        },
        "id": "R3aXwoXkjz_9",
        "outputId": "739f98f4-d712-4c0c-cf4a-50fbd050ac3e"
      },
      "execution_count": null,
      "outputs": [
        {
          "output_type": "stream",
          "name": "stdout",
          "text": [
            "/content/gdrive/MyDrive/kidney/Normal: 1366\n",
            "/content/gdrive/MyDrive/kidney/Stone: 1366\n"
          ]
        }
      ]
    },
    {
      "cell_type": "markdown",
      "source": [
        "Preprocessing"
      ],
      "metadata": {
        "id": "mrEIE5HH12qJ"
      }
    },
    {
      "cell_type": "code",
      "source": [
        "import os\n",
        "import numpy as np\n",
        "from PIL import Image\n",
        "from keras.preprocessing.image import ImageDataGenerator\n",
        "\n",
        "\n"
      ],
      "metadata": {
        "id": "uB_q5QMrK7Px"
      },
      "execution_count": null,
      "outputs": []
    },
    {
      "cell_type": "code",
      "source": [
        "datagen = ImageDataGenerator(\n",
        "    rescale=1./255,\n",
        "    rotation_range=20,\n",
        "    width_shift_range=0.2,\n",
        "    height_shift_range=0.2,\n",
        "    shear_range=0.2,\n",
        "    zoom_range=0.2,\n",
        "    horizontal_flip=True,\n",
        "    fill_mode='nearest')\n"
      ],
      "metadata": {
        "id": "9bxR7Dq6rds9"
      },
      "execution_count": null,
      "outputs": []
    },
    {
      "cell_type": "markdown",
      "source": [
        "preprocessing\n"
      ],
      "metadata": {
        "id": "cnBVgLl-ql_K"
      }
    },
    {
      "cell_type": "code",
      "source": [
        "from keras.preprocessing.image import ImageDataGenerator\n",
        "\n",
        "# Define the ImageDataGenerator for preprocessing\n",
        "train_datagen = ImageDataGenerator(\n",
        "    rescale=1./255, \n",
        "    rotation_range=20,\n",
        "    width_shift_range=0.2,\n",
        "    height_shift_range=0.2,\n",
        "    zoom_range=0.2,\n",
        "    horizontal_flip=True,\n",
        "    vertical_flip=True,\n",
        "    fill_mode='nearest')\n",
        "\n",
        "\n",
        "img_height = 224\n",
        "img_width = 224\n",
        "# Load the images from directory and apply data augmentation\n",
        "train_generator = train_datagen.flow_from_directory(\n",
        "    '/content/gdrive/MyDrive/kidney',\n",
        "    target_size=(img_height, img_width),\n",
        "    batch_size=batch_size,\n",
        "    class_mode='binary')\n"
      ],
      "metadata": {
        "colab": {
          "base_uri": "https://localhost:8080/"
        },
        "id": "ae8MiYshN8lU",
        "outputId": "3d91c7a7-de2c-4e0b-a551-d32510b3bb9d"
      },
      "execution_count": null,
      "outputs": [
        {
          "output_type": "stream",
          "name": "stdout",
          "text": [
            "Found 2733 images belonging to 2 classes.\n"
          ]
        }
      ]
    },
    {
      "cell_type": "code",
      "source": [
        "import os\n",
        "print(os.listdir('/content/gdrive/MyDrive/kidney/Normal'))\n"
      ],
      "metadata": {
        "colab": {
          "base_uri": "https://localhost:8080/"
        },
        "id": "YU_jWwvPRNwU",
        "outputId": "185fd8ff-90b9-449e-9dfc-4c1bcadc4fef"
      },
      "execution_count": null,
      "outputs": [
        {
          "output_type": "stream",
          "name": "stdout",
          "text": [
            "['Normal- (203).jpg', 'Normal- (1932).jpg', 'Normal- (2016).jpg', 'Normal- (1981).jpg', 'Normal- (2023).jpg', 'Normal- (2041).jpg', 'Normal- (2002).jpg', 'Normal- (1982).jpg', 'Normal- (1931).jpg', 'Normal- (1984).jpg', 'Normal- (1977).jpg', 'Normal- (1934).jpg', 'Normal- (2030).jpg', 'Normal- (1949).jpg', 'Normal- (1927).jpg', 'Normal- (1966).jpg', 'Normal- (2018).jpg', 'Normal- (2032).jpg', 'Normal- (1999).jpg', 'Normal- (1924).jpg', 'Normal- (1965).jpg', 'Normal- (1960).jpg', 'Normal- (2010).jpg', 'Normal- (2039).jpg', 'Normal- (1972).jpg', 'Normal- (1947).jpg', 'Normal- (2036).jpg', 'Normal- (2009).jpg', 'Normal- (1986).jpg', 'Normal- (1955).jpg', 'Normal- (1944).jpg', 'Normal- (2021).jpg', 'Normal- (2027).jpg', 'Normal- (1942).jpg', 'Normal- (1921).jpg', 'Normal- (2024).jpg', 'Normal- (1989).jpg', 'Normal- (2022).jpg', 'Normal- (1943).jpg', 'Normal- (1988).jpg', 'Normal- (1950).jpg', 'Normal- (1971).jpg', 'Normal- (196).jpg', 'Normal- (1937).jpg', 'Normal- (194).jpg', 'Normal- (2037).jpg', 'Normal- (2017).jpg', 'Normal- (2035).jpg', 'Normal- (1964).jpg', 'Normal- (1962).jpg', 'Normal- (1976).jpg', 'Normal- (1945).jpg', 'Normal- (2040).jpg', 'Normal- (1938).jpg', 'Normal- (1979).jpg', 'Normal- (1930).jpg', 'Normal- (1997).jpg', 'Normal- (1958).jpg', 'Normal- (202).jpg', 'Normal- (1991).jpg', 'Normal- (1940).jpg', 'Normal- (2033).jpg', 'Normal- (2204).jpg', 'Normal- (2207).jpg', 'Normal- (2127).jpg', 'Normal- (2212).jpg', 'Normal- (2100).jpg', 'Normal- (2215).jpg', 'Normal- (2164).jpg', 'Normal- (2048).jpg', 'Normal- (2123).jpg', 'Normal- (2118).jpg', 'Normal- (2148).jpg', 'Normal- (2103).jpg', 'Normal- (2060).jpg', 'Normal- (2111).jpg', 'Normal- (2085).jpg', 'Normal- (2178).jpg', 'Normal- (2195).jpg', 'Normal- (2142).jpg', 'Normal- (2156).jpg', 'Normal- (2140).jpg', 'Normal- (2171).jpg', 'Normal- (2216).jpg', 'Normal- (2107).jpg', 'Normal- (2218).jpg', 'Normal- (2099).jpg', 'Normal- (2149).jpg', 'Normal- (2162).jpg', 'Normal- (219).jpg', 'Normal- (2158).jpg', 'Normal- (2093).jpg', 'Normal- (2051).jpg', 'Normal- (2163).jpg', 'Normal- (2217).jpg', 'Normal- (2165).jpg', 'Normal- (2125).jpg', 'Normal- (2126).jpg', 'Normal- (2177).jpg', 'Normal- (2105).jpg', 'Normal- (215).jpg', 'Normal- (2070).jpg', 'Normal- (2183).jpg', 'Normal- (2073).jpg', 'Normal- (2132).jpg', 'Normal- (2067).jpg', 'Normal- (2122).jpg', 'Normal- (2146).jpg', 'Normal- (2120).jpg', 'Normal- (216).jpg', 'Normal- (2108).jpg', 'Normal- (2169).jpg', 'Normal- (2159).jpg', 'Normal- (2175).jpg', 'Normal- (2196).jpg', 'Normal- (2071).jpg', 'Normal- (2090).jpg', 'Normal- (2168).jpg', 'Normal- (2157).jpg', 'Normal- (2161).jpg', 'Normal- (2114).jpg', 'Normal- (207).jpg', 'Normal- (2089).jpg', 'Normal- (2080).jpg', 'Normal- (2106).jpg', 'Normal- (2049).jpg', 'Normal- (2200).jpg', 'Normal- (2079).jpg', 'Normal- (2077).jpg', 'Normal- (2172).jpg', 'Normal- (2143).jpg', 'Normal- (206).jpg', 'Normal- (2150).jpg', 'Normal- (2065).jpg', 'Normal- (2135).jpg', 'Normal- (2055).jpg', 'Normal- (2208).jpg', 'Normal- (2209).jpg', 'Normal- (2176).jpg', 'Normal- (2116).jpg', 'Normal- (2119).jpg', 'Normal- (2203).jpg', 'Normal- (2138).jpg', 'Normal- (2205).jpg', 'Normal- (2221).jpg', 'Normal- (2086).jpg', 'Normal- (2211).jpg', 'Normal- (2189).jpg', 'Normal- (2043).jpg', 'Normal- (2192).jpg', 'Normal- (2052).jpg', 'Normal- (2075).jpg', 'Normal- (2050).jpg', 'Normal- (2184).jpg', 'Normal- (2112).jpg', 'Normal- (2174).jpg', 'Normal- (2072).jpg', 'Normal- (2066).jpg', 'Normal- (2104).jpg', 'Normal- (2113).jpg', 'Normal- (2078).jpg', 'Normal- (2182).jpg', 'Normal- (2145).jpg', 'Normal- (2068).jpg', 'Normal- (2130).jpg', 'Normal- (2160).jpg', 'Normal- (2199).jpg', 'Normal- (205).jpg', 'Normal- (2094).jpg', 'Normal- (2190).jpg', 'Normal- (2137).jpg', 'Normal- (208).jpg', 'Normal- (2133).jpg', 'Normal- (2153).jpg', 'Normal- (2155).jpg', 'Normal- (2194).jpg', 'Normal- (2124).jpg', 'Normal- (222).jpg', 'Normal- (2134).jpg', 'Normal- (217).jpg', 'Normal- (2087).jpg', 'Normal- (2053).jpg', 'Normal- (2045).jpg', 'Normal- (2223).jpg', 'Normal- (2082).jpg', 'Normal- (2042).jpg', 'Normal- (2098).jpg', 'Normal- (2101).jpg', 'Normal- (2147).jpg', 'Normal- (2202).jpg', 'Normal- (2179).jpg', 'Normal- (2097).jpg', 'Normal- (2046).jpg', 'Normal- (2193).jpg', 'Normal- (2047).jpg', 'Normal- (2191).jpg', 'Normal- (2151).jpg', 'Normal- (2062).jpg', 'Normal- (2139).jpg', 'Normal- (2188).jpg', 'Normal- (2069).jpg', 'Normal- (2061).jpg', 'Normal- (2141).jpg', 'Normal- (2222).jpg', 'Normal- (221).jpg', 'Normal- (2056).jpg', 'Normal- (2210).jpg', 'Normal- (2059).jpg', 'Normal- (2186).jpg', 'Normal- (2166).jpg', 'Normal- (2144).jpg', 'Normal- (2170).jpg', 'Normal- (2197).jpg', 'Normal- (2110).jpg', 'Normal- (212).jpg', 'Normal- (213).jpg', 'Normal- (2096).jpg', 'Normal- (2083).jpg', 'Normal- (2136).jpg', 'Normal- (2219).jpg', 'Normal- (2206).jpg', 'Normal- (2213).jpg', 'Normal- (2128).jpg', 'Normal- (2117).jpg', 'Normal- (2091).jpg', 'Normal- (2054).jpg', 'Normal- (2214).jpg', 'Normal- (2201).jpg', 'Normal- (214).jpg', 'Normal- (211).jpg', 'Normal- (209).jpg', 'Normal- (2152).jpg', 'Normal- (2198).jpg', 'Normal- (2084).jpg', 'Normal- (2076).jpg', 'Normal- (2057).jpg', 'Normal- (2131).jpg', 'Normal- (2044).jpg', 'Normal- (2088).jpg', 'Normal- (2092).jpg', 'Normal- (2173).jpg', 'Normal- (2185).jpg', 'Normal- (220).jpg', 'Normal- (2181).jpg', 'Normal- (2102).jpg', 'Normal- (2180).jpg', 'Normal- (210).jpg', 'Normal- (2167).jpg', 'Normal- (2129).jpg', 'Normal- (2081).jpg', 'Normal- (2058).jpg', 'Normal- (2115).jpg', 'Normal- (2095).jpg', 'Normal- (2154).jpg', 'Normal- (2109).jpg', 'Normal- (218).jpg', 'Normal- (2074).jpg', 'Normal- (2121).jpg', 'Normal- (2220).jpg', 'Normal- (2064).jpg', 'Normal- (2063).jpg', 'Normal- (2187).jpg', 'Normal- (2410).jpg', 'Normal- (2388).jpg', 'Normal- (2411).jpg', 'Normal- (2406).jpg', 'Normal- (2412).jpg', 'Normal- (2355).jpg', 'Normal- (2384).jpg', 'Normal- (2360).jpg', 'Normal- (2350).jpg', 'Normal- (2235).jpg', 'Normal- (2331).jpg', 'Normal- (2397).jpg', 'Normal- (2408).jpg', 'Normal- (2338).jpg', 'Normal- (2248).jpg', 'Normal- (2307).jpg', 'Normal- (2257).jpg', 'Normal- (233).jpg', 'Normal- (2374).jpg', 'Normal- (2403).jpg', 'Normal- (2340).jpg', 'Normal- (2387).jpg', 'Normal- (2241).jpg', 'Normal- (2348).jpg', 'Normal- (238).jpg', 'Normal- (2326).jpg', 'Normal- (2229).jpg', 'Normal- (2358).jpg', 'Normal- (2319).jpg', 'Normal- (2362).jpg', 'Normal- (2321).jpg', 'Normal- (2361).jpg', 'Normal- (2313).jpg', 'Normal- (2392).jpg', 'Normal- (2328).jpg', 'Normal- (2377).jpg', 'Normal- (2346).jpg', 'Normal- (2236).jpg', 'Normal- (2225).jpg', 'Normal- (2323).jpg', 'Normal- (2383).jpg', 'Normal- (2320).jpg', 'Normal- (2371).jpg', 'Normal- (2401).jpg', 'Normal- (2364).jpg', 'Normal- (2389).jpg', 'Normal- (2317).jpg', 'Normal- (2399).jpg', 'Normal- (2385).jpg', 'Normal- (2344).jpg', 'Normal- (2353).jpg', 'Normal- (2393).jpg', 'Normal- (2230).jpg', 'Normal- (2329).jpg', 'Normal- (2255).jpg', 'Normal- (2252).jpg', 'Normal- (2226).jpg', 'Normal- (2373).jpg', 'Normal- (2363).jpg', 'Normal- (2228).jpg', 'Normal- (2334).jpg', 'Normal- (231).jpg', 'Normal- (2343).jpg', 'Normal- (2318).jpg', 'Normal- (2378).jpg', 'Normal- (2233).jpg', 'Normal- (2244).jpg', 'Normal- (2336).jpg', 'Normal- (2400).jpg', 'Normal- (2390).jpg', 'Normal- (2398).jpg', 'Normal- (2247).jpg', 'Normal- (2327).jpg', 'Normal- (2372).jpg', 'Normal- (2250).jpg', 'Normal- (232).jpg', 'Normal- (2396).jpg', 'Normal- (2354).jpg', 'Normal- (2382).jpg', 'Normal- (2258).jpg', 'Normal- (2316).jpg', 'Normal- (2366).jpg', 'Normal- (2254).jpg', 'Normal- (2386).jpg', 'Normal- (2322).jpg', 'Normal- (2311).jpg', 'Normal- (2246).jpg', 'Normal- (2314).jpg', 'Normal- (2357).jpg', 'Normal- (2231).jpg', 'Normal- (2379).jpg', 'Normal- (2243).jpg', 'Normal- (2367).jpg', 'Normal- (2309).jpg', 'Normal- (2333).jpg', 'Normal- (2242).jpg', 'Normal- (2324).jpg', 'Normal- (2341).jpg', 'Normal- (2237).jpg', 'Normal- (2239).jpg', 'Normal- (2251).jpg', 'Normal- (2391).jpg', 'Normal- (2227).jpg', 'Normal- (2325).jpg', 'Normal- (2413).jpg', 'Normal- (2240).jpg', 'Normal- (2315).jpg', 'Normal- (236).jpg', 'Normal- (2305).jpg', 'Normal- (225).jpg', 'Normal- (2312).jpg', 'Normal- (2395).jpg', 'Normal- (2342).jpg', 'Normal- (24).jpg', 'Normal- (2409).jpg', 'Normal- (2369).jpg', 'Normal- (2407).jpg', 'Normal- (2352).jpg', 'Normal- (223).jpg', 'Normal- (234).jpg', 'Normal- (2256).jpg', 'Normal- (2381).jpg', 'Normal- (3).jpg', 'Normal- (2359).jpg', 'Normal- (2402).jpg', 'Normal- (2349).jpg', 'Normal- (2345).jpg', 'Normal- (2330).jpg', 'Normal- (2234).jpg', 'Normal- (2368).jpg', 'Normal- (2249).jpg', 'Normal- (2404).jpg', 'Normal- (2253).jpg', 'Normal- (2376).jpg', 'Normal- (241).jpg', 'Normal- (2356).jpg', 'Normal- (2370).jpg', 'Normal- (2405).jpg', 'Normal- (2337).jpg', 'Normal- (2347).jpg', 'Normal- (2245).jpg', 'Normal- (2394).jpg', 'Normal- (2365).jpg', 'Normal- (2351).jpg', 'Normal- (2238).jpg', 'Normal- (2306).jpg', 'Normal- (2310).jpg', 'Normal- (2224).jpg', 'Normal- (2380).jpg', 'Normal- (2335).jpg', 'Normal- (2339).jpg', 'Normal- (239).jpg', 'Normal- (240).jpg', 'Normal- (224).jpg', 'Normal- (2308).jpg', 'Normal- (2332).jpg', 'Normal- (237).jpg', 'Normal- (2375).jpg', 'Normal- (2232).jpg', 'Normal- (235).jpg', 'Normal- (2529).jpg', 'Normal- (2499).jpg', 'Normal- (251).jpg', 'Normal- (2432).jpg', 'Normal- (248).jpg', 'Normal- (2421).jpg', 'Normal- (2463).jpg', 'Normal- (2487).jpg', 'Normal- (2480).jpg', 'Normal- (2456).jpg', 'Normal- (2551).jpg', 'Normal- (2522).jpg', 'Normal- (2415).jpg', 'Normal- (2483).jpg', 'Normal- (2443).jpg', 'Normal- (2442).jpg', 'Normal- (249).jpg', 'Normal- (2479).jpg', 'Normal- (2484).jpg', 'Normal- (2506).jpg', 'Normal- (2544).jpg', 'Normal- (2501).jpg', 'Normal- (2530).jpg', 'Normal- (2433).jpg', 'Normal- (2540).jpg', 'Normal- (2473).jpg', 'Normal- (2435).jpg', 'Normal- (2509).jpg', 'Normal- (2496).jpg', 'Normal- (245).jpg', 'Normal- (2431).jpg', 'Normal- (252).jpg', 'Normal- (2528).jpg', 'Normal- (2458).jpg', 'Normal- (2461).jpg', 'Normal- (2493).jpg', 'Normal- (2425).jpg', 'Normal- (2439).jpg', 'Normal- (2534).jpg', 'Normal- (2525).jpg', 'Normal- (2460).jpg', 'Normal- (243).jpg', 'Normal- (2446).jpg', 'Normal- (2503).jpg', 'Normal- (254).jpg', 'Normal- (2434).jpg', 'Normal- (2537).jpg', 'Normal- (2504).jpg', 'Normal- (2422).jpg', 'Normal- (2526).jpg', 'Normal- (2548).jpg', 'Normal- (244).jpg', 'Normal- (2524).jpg', 'Normal- (2508).jpg', 'Normal- (2437).jpg', 'Normal- (2512).jpg', 'Normal- (2470).jpg', 'Normal- (2513).jpg', 'Normal- (2547).jpg', 'Normal- (2519).jpg', 'Normal- (2423).jpg', 'Normal- (2469).jpg', 'Normal- (2489).jpg', 'Normal- (2535).jpg', 'Normal- (2429).jpg', 'Normal- (2455).jpg', 'Normal- (2514).jpg', 'Normal- (2468).jpg', 'Normal- (2452).jpg', 'Normal- (2536).jpg', 'Normal- (2498).jpg', 'Normal- (2486).jpg', 'Normal- (2553).jpg', 'Normal- (2491).jpg', 'Normal- (2418).jpg', 'Normal- (2475).jpg', 'Normal- (2495).jpg', 'Normal- (2462).jpg', 'Normal- (255).jpg', 'Normal- (2511).jpg', 'Normal- (2481).jpg', 'Normal- (2543).jpg', 'Normal- (2416).jpg', 'Normal- (2450).jpg', 'Normal- (2447).jpg', 'Normal- (2419).jpg', 'Normal- (2497).jpg', 'Normal- (2464).jpg', 'Normal- (2441).jpg', 'Normal- (2444).jpg', 'Normal- (2510).jpg', 'Normal- (2448).jpg', 'Normal- (2545).jpg', 'Normal- (2488).jpg', 'Normal- (2523).jpg', 'Normal- (2507).jpg', 'Normal- (2438).jpg', 'Normal- (2420).jpg', 'Normal- (2457).jpg', 'Normal- (2467).jpg', 'Normal- (2505).jpg', 'Normal- (2477).jpg', 'Normal- (2466).jpg', 'Normal- (2445).jpg', 'Normal- (2494).jpg', 'Normal- (2430).jpg', 'Normal- (253).jpg', 'Normal- (2465).jpg', 'Normal- (2527).jpg', 'Normal- (2476).jpg', 'Normal- (2474).jpg', 'Normal- (2440).jpg', 'Normal- (2539).jpg', 'Normal- (2521).jpg', 'Normal- (2453).jpg', 'Normal- (2532).jpg', 'Normal- (2426).jpg', 'Normal- (2546).jpg', 'Normal- (2459).jpg', 'Normal- (2424).jpg', 'Normal- (2538).jpg', 'Normal- (2478).jpg', 'Normal- (2471).jpg', 'Normal- (2417).jpg', 'Normal- (2542).jpg', 'Normal- (2454).jpg', 'Normal- (2492).jpg', 'Normal- (2482).jpg', 'Normal- (2554).jpg', 'Normal- (2518).jpg', 'Normal- (2428).jpg', 'Normal- (2414).jpg', 'Normal- (250).jpg', 'Normal- (2500).jpg', 'Normal- (2436).jpg', 'Normal- (2531).jpg', 'Normal- (2550).jpg', 'Normal- (2502).jpg', 'Normal- (2472).jpg', 'Normal- (2515).jpg', 'Normal- (2449).jpg', 'Normal- (2485).jpg', 'Normal- (2549).jpg', 'Normal- (2520).jpg', 'Normal- (2516).jpg', 'Normal- (2541).jpg', 'Normal- (2533).jpg', 'Normal- (2490).jpg', 'Normal- (246).jpg', 'Normal- (242).jpg', 'Normal- (247).jpg', 'Normal- (2552).jpg', 'Normal- (2517).jpg', 'Normal- (2451).jpg', 'Normal- (2427).jpg', 'Normal- (1).jpg', 'Normal- (100).jpg', 'Normal- (10).jpg', 'Normal- (1000).jpg', 'Normal- (1001).jpg', 'Normal- (1002).jpg', 'Normal- (1004).jpg', 'Normal- (1003).jpg', 'Normal- (1005).jpg', 'Normal- (1006).jpg', 'Normal- (1007).jpg', 'Normal- (1008).jpg', 'Normal- (1009).jpg', 'Normal- (101).jpg', 'Normal- (1010).jpg', 'Normal- (1011).jpg', 'Normal- (1012).jpg', 'Normal- (1013).jpg', 'Normal- (1014).jpg', 'Normal- (1015).jpg', 'Normal- (1016).jpg', 'Normal- (1017).jpg', 'Normal- (1018).jpg', 'Normal- (1019).jpg', 'Normal- (102).jpg', 'Normal- (1020).jpg', 'Normal- (1021).jpg', 'Normal- (1024).jpg', 'Normal- (1022).jpg', 'Normal- (1023).jpg', 'Normal- (1025).jpg', 'Normal- (1027).jpg', 'Normal- (1026).jpg', 'Normal- (1028).jpg', 'Normal- (103).jpg', 'Normal- (1029).jpg', 'Normal- (1030).jpg', 'Normal- (1031).jpg', 'Normal- (1032).jpg', 'Normal- (1033).jpg', 'Normal- (1073).jpg', 'Normal- (1074).jpg', 'Normal- (1068).jpg', 'Normal- (1077).jpg', 'Normal- (1075).jpg', 'Normal- (1071).jpg', 'Normal- (1076).jpg', 'Normal- (1069).jpg', 'Normal- (1072).jpg', 'Normal- (1070).jpg', 'Normal- (1078).jpg', 'Normal- (1079).jpg', 'Normal- (1080).jpg', 'Normal- (1082).jpg', 'Normal- (1083).jpg', 'Normal- (1081).jpg', 'Normal- (1084).jpg', 'Normal- (108).jpg', 'Normal- (1086).jpg', 'Normal- (1087).jpg', 'Normal- (1085).jpg', 'Normal- (1088).jpg', 'Normal- (1089).jpg', 'Normal- (1090).jpg', 'Normal- (1091).jpg', 'Normal- (1092).jpg', 'Normal- (1093).jpg', 'Normal- (1094).jpg', 'Normal- (1095).jpg', 'Normal- (1096).jpg', 'Normal- (1097).jpg', 'Normal- (109).jpg', 'Normal- (1098).jpg', 'Normal- (1099).jpg', 'Normal- (110).jpg', 'Normal- (1100).jpg', 'Normal- (1101).jpg', 'Normal- (1102).jpg', 'Normal- (1103).jpg', 'Normal- (1104).jpg', 'Normal- (1105).jpg', 'Normal- (1106).jpg', 'Normal- (1107).jpg', 'Normal- (1108).jpg', 'Normal- (1109).jpg', 'Normal- (1110).jpg', 'Normal- (111).jpg', 'Normal- (1111).jpg', 'Normal- (1112).jpg', 'Normal- (1113).jpg', 'Normal- (1114).jpg', 'Normal- (1115).jpg', 'Normal- (1116).jpg', 'Normal- (1117).jpg', 'Normal- (1118).jpg', 'Normal- (1119).jpg', 'Normal- (1120).jpg', 'Normal- (112).jpg', 'Normal- (1121).jpg', 'Normal- (1122).jpg', 'Normal- (1123).jpg', 'Normal- (1124).jpg', 'Normal- (1125).jpg', 'Normal- (1126).jpg', 'Normal- (1127).jpg', 'Normal- (1128).jpg', 'Normal- (1129).jpg', 'Normal- (1131).jpg', 'Normal- (1130).jpg', 'Normal- (1132).jpg', 'Normal- (1133).jpg', 'Normal- (1134).jpg', 'Normal- (113).jpg', 'Normal- (1135).jpg', 'Normal- (1136).jpg', 'Normal- (1137).jpg', 'Normal- (1139).jpg', 'Normal- (1138).jpg', 'Normal- (1140).jpg', 'Normal- (1141).jpg', 'Normal- (1142).jpg', 'Normal- (114).jpg', 'Normal- (1143).jpg', 'Normal- (1144).jpg', 'Normal- (1145).jpg', 'Normal- (1146).jpg', 'Normal- (1147).jpg', 'Normal- (1148).jpg', 'Normal- (1149).jpg', 'Normal- (1150).jpg', 'Normal- (1151).jpg', 'Normal- (1152).jpg', 'Normal- (115).jpg', 'Normal- (1153).jpg', 'Normal- (1154).jpg', 'Normal- (1155).jpg', 'Normal- (1156).jpg', 'Normal- (1157).jpg', 'Normal- (1158).jpg', 'Normal- (1159).jpg', 'Normal- (1161).jpg', 'Normal- (1160).jpg', 'Normal- (1162).jpg', 'Normal- (116).jpg', 'Normal- (1163).jpg', 'Normal- (1164).jpg', 'Normal- (1165).jpg', 'Normal- (1166).jpg', 'Normal- (1167).jpg', 'Normal- (1168).jpg', 'Normal- (1169).jpg', 'Normal- (1171).jpg', 'Normal- (1172).jpg', 'Normal- (1173).jpg', 'Normal- (1170).jpg', 'Normal- (1174).jpg', 'Normal- (117).jpg', 'Normal- (1175).jpg', 'Normal- (1176).jpg', 'Normal- (1177).jpg', 'Normal- (1178).jpg', 'Normal- (1179).jpg', 'Normal- (1180).jpg', 'Normal- (1181).jpg', 'Normal- (1182).jpg', 'Normal- (1183).jpg', 'Normal- (1184).jpg', 'Normal- (1185).jpg', 'Normal- (118).jpg', 'Normal- (1186).jpg', 'Normal- (1187).jpg', 'Normal- (1188).jpg', 'Normal- (1189).jpg', 'Normal- (1191).jpg', 'Normal- (1190).jpg', 'Normal- (1192).jpg', 'Normal- (119).jpg', 'Normal- (1193).jpg', 'Normal- (1194).jpg', 'Normal- (1195).jpg', 'Normal- (1196).jpg', 'Normal- (1197).jpg', 'Normal- (1198).jpg', 'Normal- (1199).jpg', 'Normal- (1200).jpg', 'Normal- (12).jpg', 'Normal- (120).jpg', 'Normal- (1201).jpg', 'Normal- (1202).jpg', 'Normal- (1203).jpg', 'Normal- (1204).jpg', 'Normal- (1205).jpg', 'Normal- (1206).jpg', 'Normal- (1207).jpg', 'Normal- (121).jpg', 'Normal- (1208).jpg', 'Normal- (1209).jpg', 'Normal- (1210).jpg', 'Normal- (1211).jpg', 'Normal- (1212).jpg', 'Normal- (1213).jpg', 'Normal- (1214).jpg', 'Normal- (1215).jpg', 'Normal- (1216).jpg', 'Normal- (1218).jpg', 'Normal- (1217).jpg', 'Normal- (1219).jpg', 'Normal- (122).jpg', 'Normal- (1220).jpg', 'Normal- (1221).jpg', 'Normal- (1222).jpg', 'Normal- (1223).jpg', 'Normal- (1224).jpg', 'Normal- (123).jpg', 'Normal- (1225).jpg', 'Normal- (1226).jpg', 'Normal- (1227).jpg', 'Normal- (1228).jpg', 'Normal- (1229).jpg', 'Normal- (1230).jpg', 'Normal- (1231).jpg', 'Normal- (1232).jpg', 'Normal- (1233).jpg', 'Normal- (1234).jpg', 'Normal- (124).jpg', 'Normal- (1235).jpg', 'Normal- (1236).jpg', 'Normal- (1237).jpg', 'Normal- (1238).jpg', 'Normal- (1239).jpg', 'Normal- (1240).jpg', 'Normal- (1241).jpg', 'Normal- (1242).jpg', 'Normal- (1243).jpg', 'Normal- (125).jpg', 'Normal- (1244).jpg', 'Normal- (1247).jpg', 'Normal- (1245).jpg', 'Normal- (1246).jpg', 'Normal- (1248).jpg', 'Normal- (1249).jpg', 'Normal- (1250).jpg', 'Normal- (1251).jpg', 'Normal- (1252).jpg', 'Normal- (1253).jpg', 'Normal- (1254).jpg', 'Normal- (1255).jpg', 'Normal- (1256).jpg', 'Normal- (1257).jpg', 'Normal- (1258).jpg', 'Normal- (1259).jpg', 'Normal- (1261).jpg', 'Normal- (1260).jpg', 'Normal- (1262).jpg', 'Normal- (1263).jpg', 'Normal- (126).jpg', 'Normal- (1264).jpg', 'Normal- (1265).jpg', 'Normal- (1273).jpg', 'Normal- (1266).jpg', 'Normal- (1268).jpg', 'Normal- (1267).jpg', 'Normal- (1269).jpg', 'Normal- (1270).jpg', 'Normal- (1272).jpg', 'Normal- (1271).jpg', 'Normal- (127).jpg', 'Normal- (1274).jpg', 'Normal- (1275).jpg', 'Normal- (1276).jpg', 'Normal- (1277).jpg', 'Normal- (1278).jpg', 'Normal- (1279).jpg', 'Normal- (1280).jpg', 'Normal- (1281).jpg', 'Normal- (1282).jpg', 'Normal- (128).jpg', 'Normal- (1283).jpg', 'Normal- (1284).jpg', 'Normal- (1285).jpg', 'Normal- (1287).jpg', 'Normal- (1286).jpg', 'Normal- (1288).jpg', 'Normal- (1289).jpg', 'Normal- (1290).jpg', 'Normal- (1291).jpg', 'Normal- (129).jpg', 'Normal- (1292).jpg', 'Normal- (1293).jpg', 'Normal- (1294).jpg', 'Normal- (1295).jpg', 'Normal- (1296).jpg', 'Normal- (1297).jpg', 'Normal- (1298).jpg', 'Normal- (1299).jpg', 'Normal- (1300).jpg', 'Normal- (1301).jpg', 'Normal- (13).jpg', 'Normal- (1302).jpg', 'Normal- (130).jpg', 'Normal- (1303).jpg', 'Normal- (1304).jpg', 'Normal- (1305).jpg', 'Normal- (1306).jpg', 'Normal- (1307).jpg', 'Normal- (1308).jpg', 'Normal- (1309).jpg', 'Normal- (1310).jpg', 'Normal- (1311).jpg', 'Normal- (1312).jpg', 'Normal- (131).jpg', 'Normal- (1313).jpg', 'Normal- (1314).jpg', 'Normal- (1315).jpg', 'Normal- (1316).jpg', 'Normal- (1317).jpg', 'Normal- (1318).jpg', 'Normal- (1319).jpg', 'Normal- (1321).jpg', 'Normal- (1322).jpg', 'Normal- (132).jpg', 'Normal- (1320).jpg', 'Normal- (1324).jpg', 'Normal- (1323).jpg', 'Normal- (1325).jpg', 'Normal- (1326).jpg', 'Normal- (1327).jpg', 'Normal- (1328).jpg', 'Normal- (1329).jpg', 'Normal- (1330).jpg', 'Normal- (133).jpg', 'Normal- (1331).jpg', 'Normal- (1332).jpg', 'Normal- (1333).jpg', 'Normal- (1334).jpg', 'Normal- (1335).jpg', 'Normal- (1336).jpg', 'Normal- (1337).jpg', 'Normal- (1338).jpg', 'Normal- (1339).jpg', 'Normal- (134).jpg', 'Normal- (1340).jpg', 'Normal- (1341).jpg', 'Normal- (1343).jpg', 'Normal- (1344).jpg', 'Normal- (1342).jpg', 'Normal- (1345).jpg', 'Normal- (1346).jpg', 'Normal- (1347).jpg', 'Normal- (1348).jpg', 'Normal- (1349).jpg', 'Normal- (135).jpg', 'Normal- (1350).jpg', 'Normal- (1351).jpg', 'Normal- (1352).jpg', 'Normal- (1353).jpg', 'Normal- (1355).jpg', 'Normal- (1354).jpg', 'Normal- (1356).jpg', 'Normal- (1357).jpg', 'Normal- (1358).jpg', 'Normal- (1359).jpg', 'Normal- (1360).jpg', 'Normal- (1366).jpg', 'Normal- (136).jpg', 'Normal- (1367).jpg', 'Normal- (1368).jpg', 'Normal- (1369).jpg', 'Normal- (14).jpg', 'Normal- (22).jpg', 'Normal- (2259).jpg', 'Normal- (2260).jpg', 'Normal- (226).jpg', 'Normal- (2261).jpg', 'Normal- (2262).jpg', 'Normal- (2264).jpg', 'Normal- (2263).jpg', 'Normal- (2266).jpg', 'Normal- (2265).jpg', 'Normal- (2267).jpg', 'Normal- (2268).jpg', 'Normal- (2269).jpg', 'Normal- (227).jpg', 'Normal- (2270).jpg', 'Normal- (2272).jpg', 'Normal- (2271).jpg', 'Normal- (2273).jpg', 'Normal- (2274).jpg', 'Normal- (2275).jpg', 'Normal- (2276).jpg', 'Normal- (228).jpg', 'Normal- (2277).jpg', 'Normal- (2278).jpg', 'Normal- (2279).jpg', 'Normal- (2280).jpg', 'Normal- (2281).jpg', 'Normal- (2282).jpg', 'Normal- (2283).jpg', 'Normal- (2284).jpg', 'Normal- (2285).jpg', 'Normal- (229).jpg', 'Normal- (2286).jpg', 'Normal- (2287).jpg', 'Normal- (2288).jpg', 'Normal- (2289).jpg', 'Normal- (2290).jpg', 'Normal- (2291).jpg', 'Normal- (2292).jpg', 'Normal- (2293).jpg', 'Normal- (2294).jpg', 'Normal- (2295).jpg', 'Normal- (2296).jpg', 'Normal- (23).jpg', 'Normal- (230).jpg', 'Normal- (2298).jpg', 'Normal- (2297).jpg', 'Normal- (2299).jpg', 'Normal- (2300).jpg', 'Normal- (2301).jpg', 'Normal- (2302).jpg', 'Normal- (2304).jpg', 'Normal- (2303).jpg', 'Normal- (25).jpg', 'Normal- (1402).jpg', 'Normal- (1377).jpg', 'Normal- (138).jpg', 'Normal- (1400).jpg', 'Normal- (1392).jpg', 'Normal- (141).jpg', 'Normal- (1385).jpg', 'Normal- (1383).jpg', 'Normal- (1373).jpg', 'Normal- (1395).jpg', 'Normal- (1379).jpg', 'Normal- (1401).jpg', 'Normal- (1376).jpg', 'Normal- (1372).jpg', 'Normal- (1375).jpg', 'Normal- (139).jpg', 'Normal- (1382).jpg', 'Normal- (1399).jpg', 'Normal- (1374).jpg', 'Normal- (1381).jpg', 'Normal- (1384).jpg', 'Normal- (1380).jpg', 'Normal- (1393).jpg', 'Normal- (1387).jpg', 'Normal- (1389).jpg', 'Normal- (1394).jpg', 'Normal- (15).jpg', 'Normal- (1370).jpg', 'Normal- (140).jpg', 'Normal- (1388).jpg', 'Normal- (1398).jpg', 'Normal- (1397).jpg', 'Normal- (1396).jpg', 'Normal- (1391).jpg', 'Normal- (1386).jpg', 'Normal- (1390).jpg', 'Normal- (1378).jpg', 'Normal- (1371).jpg', 'Normal- (1403).jpg', 'Normal- (1713).jpg', 'Normal- (1714).jpg', 'Normal- (1707).jpg', 'Normal- (1365) (1).jpg', 'Normal- (1716).jpg', 'Normal- (1365).jpg', 'Normal- (1719).jpg', 'Normal- (1717).jpg', 'Normal- (1718).jpg', 'Normal- (1711).jpg', 'Normal- (1721).jpg', 'Normal- (1697).jpg', 'Normal- (1364) (1).jpg', 'Normal- (1709).jpg', 'Normal- (137) (1).jpg', 'Normal- (1362) (1).jpg', 'Normal- (1720).jpg', 'Normal- (1363) (1).jpg', 'Normal- (1362).jpg', 'Normal- (1715).jpg', 'Normal- (1699).jpg', 'Normal- (1708).jpg', 'Normal- (1700).jpg', 'Normal- (1710).jpg', 'Normal- (1724).jpg', 'Normal- (1722).jpg', 'Normal- (137).jpg', 'Normal- (1698).jpg', 'Normal- (172).jpg', 'Normal- (1361) (1).jpg', 'Normal- (1364).jpg', 'Normal- (1363).jpg', 'Normal- (1723).jpg', 'Normal- (1712).jpg', 'Normal- (1361).jpg', 'Normal- (171).jpg', 'Normal- (1701).jpg', 'Normal- (1706).jpg', 'Normal- (1870).jpg', 'Normal- (1860).jpg', 'Normal- (1746).jpg', 'Normal- (1753).jpg', 'Normal- (1867).jpg', 'Normal- (186).jpg', 'Normal- (1756).jpg', 'Normal- (1780).jpg', 'Normal- (187).jpg', 'Normal- (1912).jpg', 'Normal- (1774).jpg', 'Normal- (178).jpg', 'Normal- (1761).jpg', 'Normal- (1855).jpg', 'Normal- (1767).jpg', 'Normal- (1883).jpg', 'Normal- (1854).jpg', 'Normal- (1876).jpg', 'Normal- (1837).jpg', 'Normal- (1814).jpg', 'Normal- (1907).jpg', 'Normal- (1877).jpg', 'Normal- (1783).jpg', 'Normal- (1794).jpg', 'Normal- (1770).jpg', 'Normal- (1732).jpg', 'Normal- (1800).jpg', 'Normal- (1804).jpg', 'Normal- (1785).jpg', 'Normal- (1868).jpg', 'Normal- (190).jpg', 'Normal- (1859).jpg', 'Normal- (1879).jpg', 'Normal- (1848).jpg', 'Normal- (1796).jpg', 'Normal- (1823).jpg', 'Normal- (1821).jpg', 'Normal- (1750).jpg', 'Normal- (1908).jpg', 'Normal- (1900).jpg', 'Normal- (1889).jpg', 'Normal- (1828).jpg', 'Normal- (1914).jpg', 'Normal- (1885).jpg', 'Normal- (1749).jpg', 'Normal- (1728).jpg', 'Normal- (173).jpg', 'Normal- (1778).jpg', 'Normal- (1818).jpg', 'Normal- (1727).jpg', 'Normal- (1757).jpg', 'Normal- (174).jpg', 'Normal- (1891).jpg', 'Normal- (1812).jpg', 'Normal- (1864).jpg', 'Normal- (1906).jpg', 'Normal- (1894).jpg', 'Normal- (1799).jpg', 'Normal- (180).jpg', 'Normal- (1752).jpg', 'Normal- (183).jpg', 'Normal- (1742).jpg', 'Normal- (1776).jpg', 'Normal- (1881).jpg', 'Normal- (1841).jpg', 'Normal- (1745).jpg', 'Normal- (1815).jpg', 'Normal- (1743).jpg', 'Normal- (1744).jpg', 'Normal- (1862).jpg', 'Normal- (1802).jpg', 'Normal- (1919).jpg', 'Normal- (1801).jpg', 'Normal- (1838).jpg', 'Normal- (1765).jpg', 'Normal- (1888).jpg', 'Normal- (1857).jpg', 'Normal- (1896).jpg', 'Normal- (1808).jpg', 'Normal- (1884).jpg', 'Normal- (1861).jpg', 'Normal- (1747).jpg', 'Normal- (1918).jpg', 'Normal- (179).jpg', 'Normal- (1768).jpg', 'Normal- (1843).jpg', 'Normal- (1790).jpg', 'Normal- (1797).jpg', 'Normal- (1787).jpg', 'Normal- (1759).jpg', 'Normal- (19).jpg', 'Normal- (191).jpg', 'Normal- (1764).jpg', 'Normal- (1895).jpg', 'Normal- (1869).jpg', 'Normal- (1734).jpg', 'Normal- (188).jpg', 'Normal- (1915).jpg', 'Normal- (1793).jpg', 'Normal- (1816).jpg', 'Normal- (1736).jpg', 'Normal- (1836).jpg', 'Normal- (1902).jpg', 'Normal- (1735).jpg', 'Normal- (1863).jpg', 'Normal- (1890).jpg', 'Normal- (1775).jpg', 'Normal- (176).jpg', 'Normal- (1913).jpg', 'Normal- (1738).jpg', 'Normal- (1781).jpg', 'Normal- (1817).jpg', 'Normal- (1892).jpg', 'Normal- (1853).jpg', 'Normal- (1850).jpg', 'Normal- (181).jpg', 'Normal- (1810).jpg', 'Normal- (1798).jpg', 'Normal- (1739).jpg', 'Normal- (1740).jpg', 'Normal- (1839).jpg', 'Normal- (1805).jpg', 'Normal- (1852).jpg', 'Normal- (1871).jpg', 'Normal- (1751).jpg', 'Normal- (1822).jpg', 'Normal- (1856).jpg', 'Normal- (1858).jpg', 'Normal- (177).jpg', 'Normal- (1903).jpg', 'Normal- (1905).jpg', 'Normal- (1725).jpg', 'Normal- (1726).jpg', 'Normal- (1779).jpg', 'Normal- (1829).jpg', 'Normal- (1917).jpg', 'Normal- (1904).jpg', 'Normal- (1846).jpg', 'Normal- (1766).jpg', 'Normal- (1834).jpg', 'Normal- (1874).jpg', 'Normal- (1786).jpg', 'Normal- (1730).jpg', 'Normal- (1782).jpg', 'Normal- (1865).jpg', 'Normal- (1840).jpg', 'Normal- (1910).jpg', 'Normal- (1899).jpg', 'Normal- (1880).jpg', 'Normal- (1842).jpg', 'Normal- (1731).jpg', 'Normal- (1866).jpg', 'Normal- (1806).jpg', 'Normal- (1737).jpg', 'Normal- (1893).jpg', 'Normal- (192).jpg', 'Normal- (1909).jpg', 'Normal- (1789).jpg', 'Normal- (1795).jpg', 'Normal- (1916).jpg', 'Normal- (1811).jpg', 'Normal- (1784).jpg', 'Normal- (1748).jpg', 'Normal- (1901).jpg', 'Normal- (1777).jpg', 'Normal- (1882).jpg', 'Normal- (1845).jpg', 'Normal- (1875).jpg', 'Normal- (1762).jpg', 'Normal- (1851).jpg', 'Normal- (1758).jpg', 'Normal- (1897).jpg', 'Normal- (1754).jpg', 'Normal- (1813).jpg', 'Normal- (175).jpg', 'Normal- (1772).jpg', 'Normal- (1788).jpg', 'Normal- (1830).jpg', 'Normal- (1763).jpg', 'Normal- (189).jpg', 'Normal- (1755).jpg', 'Normal- (1760).jpg', 'Normal- (1898).jpg', 'Normal- (1771).jpg', 'Normal- (184).jpg', 'Normal- (1844).jpg', 'Normal- (1807).jpg', 'Normal- (1809).jpg', 'Normal- (1792).jpg', 'Normal- (1832).jpg', 'Normal- (1791).jpg', 'Normal- (1741).jpg', 'Normal- (1835).jpg', 'Normal- (1826).jpg', 'Normal- (1878).jpg', 'Normal- (1733).jpg', 'Normal- (1887).jpg', 'Normal- (1847).jpg', 'Normal- (1819).jpg', 'Normal- (1820).jpg', 'Normal- (1827).jpg', 'Normal- (1803).jpg', 'Normal- (1831).jpg', 'Normal- (1824).jpg', 'Normal- (1873).jpg', 'Normal- (1849).jpg', 'Normal- (1825).jpg', 'Normal- (1872).jpg', 'Normal- (185).jpg', 'Normal- (1773).jpg', 'Normal- (1886).jpg', 'Normal- (1769).jpg', 'Normal- (1729).jpg', 'Normal- (1911).jpg', 'Normal- (182).jpg', 'Normal- (1833).jpg', 'Normal- (1969).jpg', 'Normal- (1920).jpg', 'Normal- (2000).jpg', 'Normal- (2012).jpg', 'Normal- (1985).jpg', 'Normal- (1926).jpg', 'Normal- (20).jpg', 'Normal- (2013).jpg', 'Normal- (1929).jpg', 'Normal- (2003).jpg', 'Normal- (1983).jpg', 'Normal- (2019).jpg', 'Normal- (1935).jpg', 'Normal- (1980).jpg', 'Normal- (1990).jpg', 'Normal- (21).jpg', 'Normal- (1973).jpg', 'Normal- (1963).jpg', 'Normal- (1946).jpg', 'Normal- (1961).jpg', 'Normal- (200).jpg', 'Normal- (1952).jpg', 'Normal- (2011).jpg', 'Normal- (1923).jpg', 'Normal- (1951).jpg', 'Normal- (2020).jpg', 'Normal- (2015).jpg', 'Normal- (2029).jpg', 'Normal- (1975).jpg', 'Normal- (1953).jpg', 'Normal- (193).jpg', 'Normal- (1925).jpg', 'Normal- (201).jpg', 'Normal- (2025).jpg', 'Normal- (1993).jpg', 'Normal- (1956).jpg', 'Normal- (1995).jpg', 'Normal- (1992).jpg', 'Normal- (1998).jpg', 'Normal- (198).jpg', 'Normal- (2031).jpg', 'Normal- (1957).jpg', 'Normal- (1936).jpg', 'Normal- (1970).jpg', 'Normal- (1994).jpg', 'Normal- (1948).jpg', 'Normal- (1939).jpg', 'Normal- (2004).jpg', 'Normal- (2028).jpg', 'Normal- (2034).jpg', 'Normal- (2005).jpg', 'Normal- (2038).jpg', 'Normal- (1928).jpg', 'Normal- (1933).jpg', 'Normal- (2008).jpg', 'Normal- (1922).jpg', 'Normal- (1941).jpg', 'Normal- (1996).jpg', 'Normal- (2014).jpg', 'Normal- (2007).jpg', 'Normal- (2006).jpg', 'Normal- (204).jpg', 'Normal- (1978).jpg', 'Normal- (197).jpg', 'Normal- (199).jpg', 'Normal- (1987).jpg', 'Normal- (1959).jpg', 'Normal- (1967).jpg', 'Normal- (2026).jpg', 'Normal- (1954).jpg', 'Normal- (1968).jpg', 'Normal- (195).jpg', 'Normal- (1974).jpg', 'Normal- (2001).jpg']\n"
          ]
        }
      ]
    },
    {
      "cell_type": "markdown",
      "source": [
        "SPLIT\n"
      ],
      "metadata": {
        "id": "RiS9Bg2dMZl1"
      }
    },
    {
      "cell_type": "code",
      "source": [
        "!pip install split-folders\n",
        "import os\n",
        "import splitfolders \n",
        "input_folder = \"/content/gdrive/MyDrive/kidney\"\n",
        "output = \"/content/gdrive/MyDrive/new kidney\"  \n",
        "splitfolders.ratio(input_folder, output, seed=1337, ratio=(.75, .25))"
      ],
      "metadata": {
        "colab": {
          "base_uri": "https://localhost:8080/"
        },
        "id": "YiZUWFxs35MC",
        "outputId": "9e1488a5-0938-461e-cf1e-256292707aa4"
      },
      "execution_count": null,
      "outputs": [
        {
          "output_type": "stream",
          "name": "stdout",
          "text": [
            "Looking in indexes: https://pypi.org/simple, https://us-python.pkg.dev/colab-wheels/public/simple/\n",
            "Requirement already satisfied: split-folders in /usr/local/lib/python3.9/dist-packages (0.5.1)\n"
          ]
        },
        {
          "output_type": "stream",
          "name": "stderr",
          "text": [
            "\n",
            "Copying files: 0 files [00:00, ? files/s]\u001b[A\n",
            "Copying files: 1 files [00:00,  3.17 files/s]\u001b[A\n",
            "Copying files: 9 files [00:00, 24.54 files/s]\u001b[A\n",
            "Copying files: 15 files [00:01,  9.41 files/s]\u001b[A\n",
            "Copying files: 23 files [00:01, 16.38 files/s]\u001b[A\n",
            "Copying files: 29 files [00:01, 21.72 files/s]\u001b[A\n",
            "Copying files: 38 files [00:01, 31.76 files/s]\u001b[A\n",
            "Copying files: 45 files [00:01, 38.13 files/s]\u001b[A\n",
            "Copying files: 52 files [00:02, 43.96 files/s]\u001b[A\n",
            "Copying files: 60 files [00:02, 51.17 files/s]\u001b[A\n",
            "Copying files: 67 files [00:02, 53.73 files/s]\u001b[A\n",
            "Copying files: 75 files [00:02, 60.01 files/s]\u001b[A\n",
            "Copying files: 82 files [00:02, 58.56 files/s]\u001b[A\n",
            "Copying files: 90 files [00:02, 63.76 files/s]\u001b[A\n",
            "Copying files: 98 files [00:02, 64.55 files/s]\u001b[A\n",
            "Copying files: 106 files [00:02, 67.03 files/s]\u001b[A\n",
            "Copying files: 114 files [00:02, 68.39 files/s]\u001b[A\n",
            "Copying files: 122 files [00:03, 64.24 files/s]\u001b[A\n",
            "Copying files: 130 files [00:03, 67.48 files/s]\u001b[A\n",
            "Copying files: 137 files [00:03, 62.87 files/s]\u001b[A\n",
            "Copying files: 145 files [00:03, 67.11 files/s]\u001b[A\n",
            "Copying files: 152 files [00:03, 65.98 files/s]\u001b[A\n",
            "Copying files: 161 files [00:03, 70.78 files/s]\u001b[A\n",
            "Copying files: 169 files [00:03, 67.73 files/s]\u001b[A\n",
            "Copying files: 178 files [00:03, 72.57 files/s]\u001b[A\n",
            "Copying files: 186 files [00:03, 69.69 files/s]\u001b[A\n",
            "Copying files: 194 files [00:04, 69.76 files/s]\u001b[A\n",
            "Copying files: 202 files [00:04, 68.56 files/s]\u001b[A\n",
            "Copying files: 210 files [00:04, 69.88 files/s]\u001b[A\n",
            "Copying files: 218 files [00:04, 68.49 files/s]\u001b[A\n",
            "Copying files: 227 files [00:04, 73.47 files/s]\u001b[A\n",
            "Copying files: 235 files [00:04, 72.00 files/s]\u001b[A\n",
            "Copying files: 243 files [00:04, 73.68 files/s]\u001b[A\n",
            "Copying files: 251 files [00:04, 71.89 files/s]\u001b[A\n",
            "Copying files: 260 files [00:04, 74.04 files/s]\u001b[A\n",
            "Copying files: 268 files [00:05, 68.65 files/s]\u001b[A\n",
            "Copying files: 276 files [00:05, 69.66 files/s]\u001b[A\n",
            "Copying files: 284 files [00:05, 66.18 files/s]\u001b[A\n",
            "Copying files: 292 files [00:05, 67.94 files/s]\u001b[A\n",
            "Copying files: 299 files [00:05, 66.06 files/s]\u001b[A\n",
            "Copying files: 307 files [00:05, 69.57 files/s]\u001b[A\n",
            "Copying files: 315 files [00:05, 63.52 files/s]\u001b[A\n",
            "Copying files: 324 files [00:05, 68.76 files/s]\u001b[A\n",
            "Copying files: 332 files [00:06, 66.64 files/s]\u001b[A\n",
            "Copying files: 339 files [00:06, 65.26 files/s]\u001b[A\n",
            "Copying files: 346 files [00:06, 53.55 files/s]\u001b[A\n",
            "Copying files: 354 files [00:06, 58.59 files/s]\u001b[A\n",
            "Copying files: 361 files [00:06, 56.44 files/s]\u001b[A\n",
            "Copying files: 368 files [00:06, 59.04 files/s]\u001b[A\n",
            "Copying files: 375 files [00:06, 60.39 files/s]\u001b[A\n",
            "Copying files: 383 files [00:06, 63.88 files/s]\u001b[A\n",
            "Copying files: 390 files [00:07, 63.57 files/s]\u001b[A\n",
            "Copying files: 397 files [00:07, 62.02 files/s]\u001b[A\n",
            "Copying files: 404 files [00:07, 64.14 files/s]\u001b[A\n",
            "Copying files: 411 files [00:07, 62.61 files/s]\u001b[A\n",
            "Copying files: 419 files [00:07, 66.58 files/s]\u001b[A\n",
            "Copying files: 426 files [00:07, 64.14 files/s]\u001b[A\n",
            "Copying files: 434 files [00:07, 68.28 files/s]\u001b[A\n",
            "Copying files: 441 files [00:07, 65.85 files/s]\u001b[A\n",
            "Copying files: 448 files [00:07, 66.83 files/s]\u001b[A\n",
            "Copying files: 455 files [00:08, 67.08 files/s]\u001b[A\n",
            "Copying files: 462 files [00:08, 64.21 files/s]\u001b[A\n",
            "Copying files: 469 files [00:08, 65.20 files/s]\u001b[A\n",
            "Copying files: 476 files [00:08, 63.87 files/s]\u001b[A\n",
            "Copying files: 484 files [00:08, 68.07 files/s]\u001b[A\n",
            "Copying files: 491 files [00:08, 67.32 files/s]\u001b[A\n",
            "Copying files: 499 files [00:08, 68.19 files/s]\u001b[A\n",
            "Copying files: 506 files [00:08, 63.41 files/s]\u001b[A\n",
            "Copying files: 515 files [00:08, 69.85 files/s]\u001b[A\n",
            "Copying files: 523 files [00:09, 70.62 files/s]\u001b[A\n",
            "Copying files: 532 files [00:09, 74.44 files/s]\u001b[A\n",
            "Copying files: 540 files [00:09, 72.83 files/s]\u001b[A\n",
            "Copying files: 548 files [00:09, 73.88 files/s]\u001b[A\n",
            "Copying files: 556 files [00:09, 72.20 files/s]\u001b[A\n",
            "Copying files: 564 files [00:09, 73.01 files/s]\u001b[A\n",
            "Copying files: 572 files [00:09, 70.70 files/s]\u001b[A\n",
            "Copying files: 582 files [00:09, 76.54 files/s]\u001b[A\n",
            "Copying files: 590 files [00:09, 72.16 files/s]\u001b[A\n",
            "Copying files: 599 files [00:10, 75.32 files/s]\u001b[A\n",
            "Copying files: 607 files [00:10, 71.67 files/s]\u001b[A\n",
            "Copying files: 616 files [00:10, 75.92 files/s]\u001b[A\n",
            "Copying files: 624 files [00:10, 45.22 files/s]\u001b[A\n",
            "Copying files: 632 files [00:10, 50.65 files/s]\u001b[A\n",
            "Copying files: 641 files [00:10, 58.11 files/s]\u001b[A\n",
            "Copying files: 649 files [00:10, 62.07 files/s]\u001b[A\n",
            "Copying files: 657 files [00:11, 54.87 files/s]\u001b[A\n",
            "Copying files: 664 files [00:11, 31.76 files/s]\u001b[A\n",
            "Copying files: 669 files [00:11, 33.29 files/s]\u001b[A\n",
            "Copying files: 677 files [00:11, 40.37 files/s]\u001b[A\n",
            "Copying files: 683 files [00:12, 40.48 files/s]\u001b[A\n",
            "Copying files: 689 files [00:12, 43.82 files/s]\u001b[A\n",
            "Copying files: 695 files [00:12, 46.35 files/s]\u001b[A\n",
            "Copying files: 703 files [00:12, 50.82 files/s]\u001b[A\n",
            "Copying files: 711 files [00:12, 55.80 files/s]\u001b[A\n",
            "Copying files: 720 files [00:12, 63.51 files/s]\u001b[A\n",
            "Copying files: 727 files [00:12, 58.90 files/s]\u001b[A\n",
            "Copying files: 735 files [00:12, 63.20 files/s]\u001b[A\n",
            "Copying files: 742 files [00:12, 63.36 files/s]\u001b[A\n",
            "Copying files: 750 files [00:13, 67.78 files/s]\u001b[A\n",
            "Copying files: 758 files [00:13, 65.08 files/s]\u001b[A\n",
            "Copying files: 765 files [00:13, 64.53 files/s]\u001b[A\n",
            "Copying files: 772 files [00:13, 62.87 files/s]\u001b[A\n",
            "Copying files: 779 files [00:13, 64.53 files/s]\u001b[A\n",
            "Copying files: 786 files [00:13, 65.72 files/s]\u001b[A\n",
            "Copying files: 793 files [00:13, 65.12 files/s]\u001b[A\n",
            "Copying files: 801 files [00:13, 68.13 files/s]\u001b[A\n",
            "Copying files: 808 files [00:13, 67.12 files/s]\u001b[A\n",
            "Copying files: 817 files [00:14, 72.31 files/s]\u001b[A\n",
            "Copying files: 825 files [00:14, 72.08 files/s]\u001b[A\n",
            "Copying files: 834 files [00:14, 75.14 files/s]\u001b[A\n",
            "Copying files: 842 files [00:14, 71.69 files/s]\u001b[A\n",
            "Copying files: 850 files [00:14, 70.83 files/s]\u001b[A\n",
            "Copying files: 858 files [00:14, 68.74 files/s]\u001b[A\n",
            "Copying files: 866 files [00:14, 71.36 files/s]\u001b[A\n",
            "Copying files: 874 files [00:14, 70.50 files/s]\u001b[A\n",
            "Copying files: 883 files [00:14, 75.21 files/s]\u001b[A\n",
            "Copying files: 891 files [00:15, 70.16 files/s]\u001b[A\n",
            "Copying files: 899 files [00:15, 72.71 files/s]\u001b[A\n",
            "Copying files: 907 files [00:15, 69.56 files/s]\u001b[A\n",
            "Copying files: 915 files [00:15, 70.51 files/s]\u001b[A\n",
            "Copying files: 923 files [00:15, 66.40 files/s]\u001b[A\n",
            "Copying files: 931 files [00:15, 69.52 files/s]\u001b[A\n",
            "Copying files: 939 files [00:15, 69.57 files/s]\u001b[A\n",
            "Copying files: 947 files [00:15, 70.50 files/s]\u001b[A\n",
            "Copying files: 955 files [00:16, 69.45 files/s]\u001b[A\n",
            "Copying files: 962 files [00:16, 67.91 files/s]\u001b[A\n",
            "Copying files: 969 files [00:16, 48.57 files/s]\u001b[A\n",
            "Copying files: 977 files [00:16, 55.15 files/s]\u001b[A\n",
            "Copying files: 984 files [00:16, 56.16 files/s]\u001b[A\n",
            "Copying files: 992 files [00:16, 61.70 files/s]\u001b[A\n",
            "Copying files: 999 files [00:16, 62.75 files/s]\u001b[A\n",
            "Copying files: 1006 files [00:16, 61.46 files/s]\u001b[A\n",
            "Copying files: 1013 files [00:17, 60.45 files/s]\u001b[A\n",
            "Copying files: 1021 files [00:17, 64.98 files/s]\u001b[A\n",
            "Copying files: 1028 files [00:17, 64.72 files/s]\u001b[A\n",
            "Copying files: 1037 files [00:17, 68.74 files/s]\u001b[A\n",
            "Copying files: 1046 files [00:17, 69.37 files/s]\u001b[A\n",
            "Copying files: 1054 files [00:17, 70.97 files/s]\u001b[A\n",
            "Copying files: 1063 files [00:17, 75.66 files/s]\u001b[A\n",
            "Copying files: 1071 files [00:17, 72.76 files/s]\u001b[A\n",
            "Copying files: 1079 files [00:17, 73.43 files/s]\u001b[A\n",
            "Copying files: 1087 files [00:18, 72.10 files/s]\u001b[A\n",
            "Copying files: 1095 files [00:18, 73.83 files/s]\u001b[A\n",
            "Copying files: 1103 files [00:18, 71.56 files/s]\u001b[A\n",
            "Copying files: 1111 files [00:18, 70.05 files/s]\u001b[A\n",
            "Copying files: 1119 files [00:18, 62.09 files/s]\u001b[A\n",
            "Copying files: 1127 files [00:18, 66.53 files/s]\u001b[A\n",
            "Copying files: 1134 files [00:18, 63.94 files/s]\u001b[A\n",
            "Copying files: 1142 files [00:18, 66.29 files/s]\u001b[A\n",
            "Copying files: 1150 files [00:18, 69.78 files/s]\u001b[A\n",
            "Copying files: 1158 files [00:19, 67.50 files/s]\u001b[A\n",
            "Copying files: 1165 files [00:19, 68.17 files/s]\u001b[A\n",
            "Copying files: 1172 files [00:19, 66.45 files/s]\u001b[A\n",
            "Copying files: 1179 files [00:19, 66.61 files/s]\u001b[A\n",
            "Copying files: 1186 files [00:19, 65.53 files/s]\u001b[A\n",
            "Copying files: 1193 files [00:19, 65.92 files/s]\u001b[A\n",
            "Copying files: 1201 files [00:19, 65.01 files/s]\u001b[A\n",
            "Copying files: 1209 files [00:19, 67.20 files/s]\u001b[A\n",
            "Copying files: 1217 files [00:20, 66.12 files/s]\u001b[A\n",
            "Copying files: 1224 files [00:20, 66.35 files/s]\u001b[A\n",
            "Copying files: 1232 files [00:20, 68.98 files/s]\u001b[A\n",
            "Copying files: 1239 files [00:20, 63.17 files/s]\u001b[A\n",
            "Copying files: 1247 files [00:20, 66.41 files/s]\u001b[A\n",
            "Copying files: 1254 files [00:20, 62.63 files/s]\u001b[A\n",
            "Copying files: 1262 files [00:20, 66.51 files/s]\u001b[A\n",
            "Copying files: 1269 files [00:20, 64.55 files/s]\u001b[A\n",
            "Copying files: 1277 files [00:20, 66.01 files/s]\u001b[A\n",
            "Copying files: 1284 files [00:21, 65.33 files/s]\u001b[A\n",
            "Copying files: 1292 files [00:21, 68.24 files/s]\u001b[A\n",
            "Copying files: 1299 files [00:21, 63.87 files/s]\u001b[A\n",
            "Copying files: 1306 files [00:21, 60.19 files/s]\u001b[A\n",
            "Copying files: 1313 files [00:21, 55.87 files/s]\u001b[A\n",
            "Copying files: 1320 files [00:21, 58.60 files/s]\u001b[A\n",
            "Copying files: 1328 files [00:21, 60.15 files/s]\u001b[A\n",
            "Copying files: 1335 files [00:21, 62.33 files/s]\u001b[A\n",
            "Copying files: 1343 files [00:22, 61.59 files/s]\u001b[A\n",
            "Copying files: 1350 files [00:22, 63.48 files/s]\u001b[A\n",
            "Copying files: 1358 files [00:22, 65.61 files/s]\u001b[A\n",
            "Copying files: 1365 files [00:22, 60.65 files/s]\u001b[A\n",
            "Copying files: 1372 files [00:23, 13.82 files/s]\u001b[A\n",
            "Copying files: 1377 files [00:24, 10.43 files/s]\u001b[A\n",
            "Copying files: 1381 files [00:40,  1.12 files/s]\u001b[A\n",
            "Copying files: 1389 files [00:40,  1.76 files/s]\u001b[A\n",
            "Copying files: 1394 files [00:40,  2.31 files/s]\u001b[A\n",
            "Copying files: 1399 files [00:41,  2.99 files/s]\u001b[A\n",
            "Copying files: 1407 files [00:41,  4.68 files/s]\u001b[A\n",
            "Copying files: 1415 files [00:41,  6.91 files/s]\u001b[A\n",
            "Copying files: 1422 files [00:41,  9.48 files/s]\u001b[A\n",
            "Copying files: 1428 files [00:41, 12.12 files/s]\u001b[A\n",
            "Copying files: 1434 files [00:41, 15.35 files/s]\u001b[A\n",
            "Copying files: 1443 files [00:41, 22.14 files/s]\u001b[A\n",
            "Copying files: 1450 files [00:41, 27.16 files/s]\u001b[A\n",
            "Copying files: 1457 files [00:42, 31.81 files/s]\u001b[A\n",
            "Copying files: 1465 files [00:42, 38.24 files/s]\u001b[A\n",
            "Copying files: 1473 files [00:42, 45.62 files/s]\u001b[A\n",
            "Copying files: 1481 files [00:42, 52.43 files/s]\u001b[A\n",
            "Copying files: 1488 files [00:42, 53.11 files/s]\u001b[A\n",
            "Copying files: 1498 files [00:42, 62.75 files/s]\u001b[A\n",
            "Copying files: 1506 files [00:42, 66.14 files/s]\u001b[A\n",
            "Copying files: 1515 files [00:42, 70.73 files/s]\u001b[A\n",
            "Copying files: 1523 files [00:42, 67.49 files/s]\u001b[A\n",
            "Copying files: 1531 files [00:43, 70.60 files/s]\u001b[A\n",
            "Copying files: 1539 files [00:43, 64.72 files/s]\u001b[A\n",
            "Copying files: 1546 files [00:43, 65.46 files/s]\u001b[A\n",
            "Copying files: 1553 files [00:43, 60.38 files/s]\u001b[A\n",
            "Copying files: 1560 files [00:43, 61.24 files/s]\u001b[A\n",
            "Copying files: 1567 files [00:43, 59.64 files/s]\u001b[A\n",
            "Copying files: 1574 files [00:43, 61.30 files/s]\u001b[A\n",
            "Copying files: 1581 files [00:43, 61.47 files/s]\u001b[A\n",
            "Copying files: 1588 files [00:43, 62.68 files/s]\u001b[A\n",
            "Copying files: 1595 files [00:44, 64.22 files/s]\u001b[A\n",
            "Copying files: 1604 files [00:44, 71.05 files/s]\u001b[A\n",
            "Copying files: 1612 files [00:44, 66.46 files/s]\u001b[A\n",
            "Copying files: 1619 files [00:44, 59.79 files/s]\u001b[A\n",
            "Copying files: 1626 files [00:44, 61.05 files/s]\u001b[A\n",
            "Copying files: 1633 files [00:44, 62.46 files/s]\u001b[A\n",
            "Copying files: 1640 files [00:44, 60.54 files/s]\u001b[A\n",
            "Copying files: 1648 files [00:44, 64.60 files/s]\u001b[A\n",
            "Copying files: 1655 files [00:45, 65.60 files/s]\u001b[A\n",
            "Copying files: 1662 files [00:45, 65.65 files/s]\u001b[A\n",
            "Copying files: 1670 files [00:45, 63.12 files/s]\u001b[A\n",
            "Copying files: 1677 files [00:45, 63.83 files/s]\u001b[A\n",
            "Copying files: 1684 files [00:45, 63.90 files/s]\u001b[A\n",
            "Copying files: 1691 files [00:45, 57.48 files/s]\u001b[A\n",
            "Copying files: 1699 files [00:45, 62.67 files/s]\u001b[A\n",
            "Copying files: 1706 files [00:45, 63.14 files/s]\u001b[A\n",
            "Copying files: 1714 files [00:45, 64.99 files/s]\u001b[A\n",
            "Copying files: 1721 files [00:46, 64.33 files/s]\u001b[A\n",
            "Copying files: 1728 files [00:46, 65.46 files/s]\u001b[A\n",
            "Copying files: 1735 files [00:46, 63.02 files/s]\u001b[A\n",
            "Copying files: 1742 files [00:46, 46.38 files/s]\u001b[A\n",
            "Copying files: 1748 files [00:46, 32.01 files/s]\u001b[A\n",
            "Copying files: 1757 files [00:47, 41.41 files/s]\u001b[A\n",
            "Copying files: 1763 files [00:47, 44.33 files/s]\u001b[A\n",
            "Copying files: 1771 files [00:47, 51.23 files/s]\u001b[A\n",
            "Copying files: 1778 files [00:47, 53.30 files/s]\u001b[A\n",
            "Copying files: 1786 files [00:47, 59.44 files/s]\u001b[A\n",
            "Copying files: 1793 files [00:47, 59.20 files/s]\u001b[A\n",
            "Copying files: 1800 files [00:47, 58.71 files/s]\u001b[A\n",
            "Copying files: 1807 files [00:47, 60.48 files/s]\u001b[A\n",
            "Copying files: 1814 files [00:47, 60.78 files/s]\u001b[A\n",
            "Copying files: 1822 files [00:48, 65.61 files/s]\u001b[A\n",
            "Copying files: 1829 files [00:48, 65.05 files/s]\u001b[A\n",
            "Copying files: 1836 files [00:48, 66.40 files/s]\u001b[A\n",
            "Copying files: 1843 files [00:48, 63.76 files/s]\u001b[A\n",
            "Copying files: 1850 files [00:48, 53.50 files/s]\u001b[A\n",
            "Copying files: 1856 files [00:48, 52.80 files/s]\u001b[A\n",
            "Copying files: 1862 files [00:48, 54.24 files/s]\u001b[A\n",
            "Copying files: 1868 files [00:48, 55.75 files/s]\u001b[A\n",
            "Copying files: 1876 files [00:48, 61.23 files/s]\u001b[A\n",
            "Copying files: 1883 files [00:49, 61.57 files/s]\u001b[A\n",
            "Copying files: 1891 files [00:49, 63.91 files/s]\u001b[A\n",
            "Copying files: 1898 files [00:49, 57.54 files/s]\u001b[A\n",
            "Copying files: 1904 files [00:49, 57.90 files/s]\u001b[A\n",
            "Copying files: 1910 files [00:49, 54.99 files/s]\u001b[A\n",
            "Copying files: 1917 files [00:49, 57.61 files/s]\u001b[A\n",
            "Copying files: 1923 files [00:49, 57.70 files/s]\u001b[A\n",
            "Copying files: 1929 files [00:49, 56.05 files/s]\u001b[A\n",
            "Copying files: 1937 files [00:49, 61.50 files/s]\u001b[A\n",
            "Copying files: 1944 files [00:50, 59.41 files/s]\u001b[A\n",
            "Copying files: 1950 files [00:50, 56.23 files/s]\u001b[A\n",
            "Copying files: 1956 files [00:50, 53.49 files/s]\u001b[A\n",
            "Copying files: 1964 files [00:50, 58.99 files/s]\u001b[A\n",
            "Copying files: 1970 files [00:50, 57.58 files/s]\u001b[A\n",
            "Copying files: 1977 files [00:50, 60.39 files/s]\u001b[A\n",
            "Copying files: 1984 files [00:50, 58.48 files/s]\u001b[A\n",
            "Copying files: 1992 files [00:50, 63.56 files/s]\u001b[A\n",
            "Copying files: 1999 files [00:51, 62.31 files/s]\u001b[A\n",
            "Copying files: 2006 files [00:51, 63.16 files/s]\u001b[A\n",
            "Copying files: 2013 files [00:51, 61.46 files/s]\u001b[A\n",
            "Copying files: 2020 files [00:51, 62.90 files/s]\u001b[A\n",
            "Copying files: 2027 files [00:51, 57.40 files/s]\u001b[A\n",
            "Copying files: 2034 files [00:51, 59.12 files/s]\u001b[A\n",
            "Copying files: 2041 files [00:51, 58.20 files/s]\u001b[A\n",
            "Copying files: 2048 files [00:51, 60.49 files/s]\u001b[A\n",
            "Copying files: 2055 files [00:51, 58.30 files/s]\u001b[A\n",
            "Copying files: 2061 files [00:52, 55.41 files/s]\u001b[A\n",
            "Copying files: 2067 files [00:52, 41.60 files/s]\u001b[A\n",
            "Copying files: 2075 files [00:52, 48.62 files/s]\u001b[A\n",
            "Copying files: 2081 files [00:52, 48.01 files/s]\u001b[A\n",
            "Copying files: 2088 files [00:52, 51.99 files/s]\u001b[A\n",
            "Copying files: 2094 files [00:52, 51.53 files/s]\u001b[A\n",
            "Copying files: 2101 files [00:52, 56.00 files/s]\u001b[A\n",
            "Copying files: 2107 files [00:53, 55.23 files/s]\u001b[A\n",
            "Copying files: 2114 files [00:53, 58.41 files/s]\u001b[A\n",
            "Copying files: 2121 files [00:53, 57.92 files/s]\u001b[A\n",
            "Copying files: 2129 files [00:53, 62.74 files/s]\u001b[A\n",
            "Copying files: 2136 files [00:53, 60.67 files/s]\u001b[A\n",
            "Copying files: 2143 files [00:53, 61.35 files/s]\u001b[A\n",
            "Copying files: 2150 files [00:53, 58.11 files/s]\u001b[A\n",
            "Copying files: 2157 files [00:53, 60.29 files/s]\u001b[A\n",
            "Copying files: 2164 files [00:53, 58.44 files/s]\u001b[A\n",
            "Copying files: 2172 files [00:54, 62.93 files/s]\u001b[A\n",
            "Copying files: 2179 files [00:54, 60.34 files/s]\u001b[A\n",
            "Copying files: 2186 files [00:54, 60.34 files/s]\u001b[A\n",
            "Copying files: 2193 files [00:54, 59.59 files/s]\u001b[A\n",
            "Copying files: 2200 files [00:54, 61.27 files/s]\u001b[A\n",
            "Copying files: 2207 files [00:54, 58.02 files/s]\u001b[A\n",
            "Copying files: 2213 files [00:54, 58.22 files/s]\u001b[A\n",
            "Copying files: 2219 files [00:54, 57.29 files/s]\u001b[A\n",
            "Copying files: 2226 files [00:54, 60.37 files/s]\u001b[A\n",
            "Copying files: 2233 files [00:55, 62.20 files/s]\u001b[A\n",
            "Copying files: 2240 files [00:55, 61.03 files/s]\u001b[A\n",
            "Copying files: 2247 files [00:55, 62.09 files/s]\u001b[A\n",
            "Copying files: 2254 files [00:55, 56.59 files/s]\u001b[A\n",
            "Copying files: 2260 files [00:55, 56.86 files/s]\u001b[A\n",
            "Copying files: 2266 files [00:55, 55.36 files/s]\u001b[A\n",
            "Copying files: 2273 files [00:55, 57.44 files/s]\u001b[A\n",
            "Copying files: 2279 files [00:55, 56.24 files/s]\u001b[A\n",
            "Copying files: 2286 files [00:56, 59.36 files/s]\u001b[A\n",
            "Copying files: 2292 files [00:56, 57.02 files/s]\u001b[A\n",
            "Copying files: 2299 files [00:56, 59.98 files/s]\u001b[A\n",
            "Copying files: 2306 files [00:56, 57.50 files/s]\u001b[A\n",
            "Copying files: 2313 files [00:56, 58.97 files/s]\u001b[A\n",
            "Copying files: 2319 files [00:56, 56.68 files/s]\u001b[A\n",
            "Copying files: 2326 files [00:56, 59.36 files/s]\u001b[A\n",
            "Copying files: 2333 files [00:56, 58.80 files/s]\u001b[A\n",
            "Copying files: 2339 files [00:56, 55.03 files/s]\u001b[A\n",
            "Copying files: 2346 files [00:57, 58.57 files/s]\u001b[A\n",
            "Copying files: 2352 files [00:57, 40.54 files/s]\u001b[A\n",
            "Copying files: 2359 files [00:57, 45.94 files/s]\u001b[A\n",
            "Copying files: 2365 files [00:57, 47.77 files/s]\u001b[A\n",
            "Copying files: 2372 files [00:57, 53.00 files/s]\u001b[A\n",
            "Copying files: 2378 files [00:57, 53.46 files/s]\u001b[A\n",
            "Copying files: 2386 files [00:57, 58.59 files/s]\u001b[A\n",
            "Copying files: 2393 files [00:58, 50.87 files/s]\u001b[A\n",
            "Copying files: 2399 files [00:58, 46.65 files/s]\u001b[A\n",
            "Copying files: 2404 files [00:58, 45.09 files/s]\u001b[A\n",
            "Copying files: 2409 files [00:58, 45.31 files/s]\u001b[A\n",
            "Copying files: 2414 files [00:58, 46.08 files/s]\u001b[A\n",
            "Copying files: 2420 files [00:58, 48.32 files/s]\u001b[A\n",
            "Copying files: 2425 files [00:58, 46.38 files/s]\u001b[A\n",
            "Copying files: 2433 files [00:58, 55.05 files/s]\u001b[A\n",
            "Copying files: 2439 files [00:58, 55.47 files/s]\u001b[A\n",
            "Copying files: 2445 files [00:59, 53.35 files/s]\u001b[A\n",
            "Copying files: 2451 files [00:59, 55.08 files/s]\u001b[A\n",
            "Copying files: 2457 files [00:59, 53.21 files/s]\u001b[A\n",
            "Copying files: 2463 files [00:59, 48.39 files/s]\u001b[A\n",
            "Copying files: 2468 files [00:59, 43.36 files/s]\u001b[A\n",
            "Copying files: 2473 files [00:59, 42.97 files/s]\u001b[A\n",
            "Copying files: 2480 files [00:59, 48.83 files/s]\u001b[A\n",
            "Copying files: 2487 files [00:59, 53.40 files/s]\u001b[A\n",
            "Copying files: 2493 files [01:00, 47.30 files/s]\u001b[A\n",
            "Copying files: 2498 files [01:00, 40.46 files/s]\u001b[A\n",
            "Copying files: 2503 files [01:00, 42.05 files/s]\u001b[A\n",
            "Copying files: 2508 files [01:00, 41.76 files/s]\u001b[A\n",
            "Copying files: 2513 files [01:00, 42.94 files/s]\u001b[A\n",
            "Copying files: 2519 files [01:00, 47.06 files/s]\u001b[A\n",
            "Copying files: 2525 files [01:00, 49.39 files/s]\u001b[A\n",
            "Copying files: 2533 files [01:00, 57.72 files/s]\u001b[A\n",
            "Copying files: 2540 files [01:01, 57.71 files/s]\u001b[A\n",
            "Copying files: 2546 files [01:01, 57.36 files/s]\u001b[A\n",
            "Copying files: 2552 files [01:01, 55.21 files/s]\u001b[A\n",
            "Copying files: 2558 files [01:01, 54.58 files/s]\u001b[A\n",
            "Copying files: 2564 files [01:01, 47.94 files/s]\u001b[A\n",
            "Copying files: 2569 files [01:01, 47.27 files/s]\u001b[A\n",
            "Copying files: 2574 files [01:01, 45.34 files/s]\u001b[A\n",
            "Copying files: 2579 files [01:01, 43.57 files/s]\u001b[A\n",
            "Copying files: 2584 files [01:02, 43.04 files/s]\u001b[A\n",
            "Copying files: 2589 files [01:02, 43.06 files/s]\u001b[A\n",
            "Copying files: 2594 files [01:02, 42.18 files/s]\u001b[A\n",
            "Copying files: 2600 files [01:02, 45.42 files/s]\u001b[A\n",
            "Copying files: 2605 files [01:02, 44.80 files/s]\u001b[A\n",
            "Copying files: 2610 files [01:02, 43.13 files/s]\u001b[A\n",
            "Copying files: 2616 files [01:02, 41.84 files/s]\u001b[A\n",
            "Copying files: 2621 files [01:03, 30.06 files/s]\u001b[A\n",
            "Copying files: 2626 files [01:03, 33.17 files/s]\u001b[A\n",
            "Copying files: 2630 files [01:03, 32.50 files/s]\u001b[A\n",
            "Copying files: 2634 files [01:03, 33.87 files/s]\u001b[A\n",
            "Copying files: 2639 files [01:03, 36.56 files/s]\u001b[A\n",
            "Copying files: 2646 files [01:03, 43.57 files/s]\u001b[A\n",
            "Copying files: 2651 files [01:03, 44.74 files/s]\u001b[A\n",
            "Copying files: 2657 files [01:03, 47.16 files/s]\u001b[A\n",
            "Copying files: 2662 files [01:04, 39.62 files/s]\u001b[A\n",
            "Copying files: 2667 files [01:04, 38.78 files/s]\u001b[A\n",
            "Copying files: 2672 files [01:04, 35.97 files/s]\u001b[A\n",
            "Copying files: 2676 files [01:04, 33.57 files/s]\u001b[A\n",
            "Copying files: 2680 files [01:04, 26.14 files/s]\u001b[A\n",
            "Copying files: 2683 files [01:04, 22.98 files/s]\u001b[A\n",
            "Copying files: 2686 files [01:05, 23.93 files/s]\u001b[A\n",
            "Copying files: 2689 files [01:05, 24.48 files/s]\u001b[A\n",
            "Copying files: 2693 files [01:05, 27.36 files/s]\u001b[A\n",
            "Copying files: 2696 files [01:05, 27.16 files/s]\u001b[A\n",
            "Copying files: 2700 files [01:05, 30.28 files/s]\u001b[A\n",
            "Copying files: 2705 files [01:05, 34.51 files/s]\u001b[A\n",
            "Copying files: 2709 files [01:05, 30.11 files/s]\u001b[A\n",
            "Copying files: 2713 files [01:06, 20.49 files/s]\u001b[A\n",
            "Copying files: 2716 files [01:06, 21.10 files/s]\u001b[A\n",
            "Copying files: 2719 files [01:06, 19.15 files/s]\u001b[A\n",
            "Copying files: 2722 files [01:06, 19.21 files/s]\u001b[A\n",
            "Copying files: 2725 files [01:06, 18.26 files/s]\u001b[A\n",
            "Copying files: 2727 files [01:06, 17.71 files/s]\u001b[A\n",
            "Copying files: 2729 files [01:07, 16.22 files/s]\u001b[A\n",
            "Copying files: 2732 files [01:07, 40.65 files/s]\n"
          ]
        }
      ]
    },
    {
      "cell_type": "markdown",
      "source": [
        "MODEL"
      ],
      "metadata": {
        "id": "kI-1zuz89-mU"
      }
    },
    {
      "cell_type": "markdown",
      "source": [
        "INCEPTION V3\n"
      ],
      "metadata": {
        "id": "XnlJJkx3Aybp"
      }
    },
    {
      "cell_type": "code",
      "source": [
        "# importing necceasary libraries\n",
        "from keras.models import Model\n",
        "from keras.layers import Dense\n",
        "from keras.optimizers import Adam\n",
        "from keras.layers import GlobalAveragePooling2D\n",
        "from keras.applications.inception_v3 import InceptionV3\n",
        "\n",
        "img_height = 224\n",
        "img_width = 224\n",
        "num_classes = 2\n",
        "\n",
        "# Load the InceptionV3 model without the top layers\n",
        "base_model = InceptionV3(weights='imagenet', include_top=False, input_shape=(img_height, img_width, 3))\n",
        "\n",
        "# Add custom top layers for our dataset\n",
        "x = base_model.output\n",
        "x = GlobalAveragePooling2D()(x)\n",
        "x = Dense(1024, activation='relu')(x)\n",
        "predictions = Dense(num_classes, activation='softmax')(x)\n",
        "\n",
        "# Combine the base model and the custom top layers\n",
        "model = Model(inputs=base_model.input, outputs=predictions)\n",
        "\n",
        "# Compile the model with Adam optimizer and categorical crossentropy loss\n",
        "model.compile(optimizer=Adam(lr=0.0001), loss='categorical_crossentropy', metrics=['accuracy'])\n",
        "\n"
      ],
      "metadata": {
        "colab": {
          "base_uri": "https://localhost:8080/"
        },
        "id": "TN6qDgXh35Pt",
        "outputId": "e202a75e-0990-4324-da8c-8d257ef1d28e"
      },
      "execution_count": null,
      "outputs": [
        {
          "output_type": "stream",
          "name": "stderr",
          "text": [
            "\rCopying files: 927 files [29:43,  1.92s/ files]\n",
            "/usr/local/lib/python3.9/dist-packages/keras/optimizers/legacy/adam.py:117: UserWarning: The `lr` argument is deprecated, use `learning_rate` instead.\n",
            "  super().__init__(name, **kwargs)\n"
          ]
        }
      ]
    },
    {
      "cell_type": "code",
      "source": [
        "train_dir = '/content/gdrive/MyDrive/new kidney/train'\n",
        "num_classes = len(os.listdir(train_dir))"
      ],
      "metadata": {
        "id": "hdawZWcK_rA-"
      },
      "execution_count": null,
      "outputs": []
    },
    {
      "cell_type": "code",
      "source": [
        "import tensorflow as tf\n",
        "from tensorflow.keras.preprocessing.image import ImageDataGenerator\n",
        "from tensorflow.keras.models import Sequential\n",
        "from tensorflow.keras.layers import Dense, GlobalAveragePooling2D\n",
        "from tensorflow.keras.applications.inception_v3 import InceptionV3, preprocess_input\n"
      ],
      "metadata": {
        "id": "XWtHWz2HA1Xq"
      },
      "execution_count": null,
      "outputs": []
    },
    {
      "cell_type": "code",
      "source": [
        "#hyperparameters\n",
        "img_height = 224\n",
        "img_width = 224\n",
        "batch_size = 32\n",
        "num_epochs = 10\n",
        "num_classes = 2"
      ],
      "metadata": {
        "id": "jtpQboeRA1cR"
      },
      "execution_count": null,
      "outputs": []
    },
    {
      "cell_type": "code",
      "source": [
        "\n",
        "# Create data generators for train and validation sets\n",
        "train_datagen = ImageDataGenerator(\n",
        "    rescale=1./255,\n",
        "    rotation_range=20,\n",
        "    zoom_range=0.15,\n",
        "    width_shift_range=0.2,\n",
        "    height_shift_range=0.2,\n",
        "    shear_range=0.15,\n",
        "    horizontal_flip=True,\n",
        "    fill_mode='nearest')\n",
        "\n",
        "val_datagen = ImageDataGenerator(rescale=1./255)"
      ],
      "metadata": {
        "id": "AoJlCsn6A1eQ"
      },
      "execution_count": null,
      "outputs": []
    },
    {
      "cell_type": "code",
      "source": [
        "train_generator = train_datagen.flow_from_directory(\n",
        "    '/content/gdrive/MyDrive/new kidney/train',\n",
        "    target_size=(img_height, img_width),\n",
        "    batch_size=batch_size,\n",
        "    class_mode='categorical')"
      ],
      "metadata": {
        "colab": {
          "base_uri": "https://localhost:8080/"
        },
        "id": "mOLOB3r3A1hE",
        "outputId": "c4d4ad58-63d7-4591-d492-a0fe9a7b73ff"
      },
      "execution_count": null,
      "outputs": [
        {
          "output_type": "stream",
          "name": "stdout",
          "text": [
            "Found 2048 images belonging to 2 classes.\n"
          ]
        }
      ]
    },
    {
      "cell_type": "code",
      "source": [
        "val_generator = val_datagen.flow_from_directory(\n",
        "    '/content/gdrive/MyDrive/new kidney/val',\n",
        "    target_size=(img_height, img_width),\n",
        "    batch_size=batch_size,\n",
        "    class_mode='categorical')"
      ],
      "metadata": {
        "colab": {
          "base_uri": "https://localhost:8080/"
        },
        "id": "q0JLJPRrA8bo",
        "outputId": "86966e9a-f603-451a-f9bd-e7015749f254"
      },
      "execution_count": null,
      "outputs": [
        {
          "output_type": "stream",
          "name": "stdout",
          "text": [
            "Found 684 images belonging to 2 classes.\n"
          ]
        }
      ]
    },
    {
      "cell_type": "code",
      "source": [
        "\n",
        "# Load the InceptionV3 model without the top layers\n",
        "base_model = InceptionV3(weights='imagenet', include_top=False, input_shape=(img_height, img_width, 3))\n"
      ],
      "metadata": {
        "id": "u3ol4M-9A-U4"
      },
      "execution_count": null,
      "outputs": []
    },
    {
      "cell_type": "code",
      "source": [
        "# Add custom top layers for  dataset\n",
        "x = base_model.output\n",
        "x = GlobalAveragePooling2D()(x)\n",
        "x = Dense(1024, activation='relu')(x)\n",
        "predictions = Dense(num_classes, activation='softmax')(x)"
      ],
      "metadata": {
        "id": "QbIIUnDnBBkR"
      },
      "execution_count": null,
      "outputs": []
    },
    {
      "cell_type": "code",
      "source": [
        "# Combine the base model and the custom top layers\n",
        "model = tf.keras.models.Model(inputs=base_model.input, outputs=predictions)\n",
        "\n",
        "# Compile the model\n",
        "model.compile(optimizer='adam', loss='categorical_crossentropy', metrics=['accuracy'])\n"
      ],
      "metadata": {
        "id": "rGnegTjDBGRi"
      },
      "execution_count": null,
      "outputs": []
    },
    {
      "cell_type": "code",
      "source": [
        "# Train the model\n",
        "history = model.fit(\n",
        "    train_generator,\n",
        "    epochs=num_epochs,\n",
        "    validation_data=val_generator,\n",
        "    batch_size=batch_size,\n",
        "    steps_per_epoch=train_generator.samples//batch_size,\n",
        "    validation_steps=val_generator.samples//batch_size)"
      ],
      "metadata": {
        "colab": {
          "base_uri": "https://localhost:8080/"
        },
        "id": "cbhhpR5yBIHL",
        "outputId": "d796344e-e99b-496c-eea6-b4b030758c6a"
      },
      "execution_count": null,
      "outputs": [
        {
          "output_type": "stream",
          "name": "stdout",
          "text": [
            "Epoch 1/10\n",
            "64/64 [==============================] - 1403s 22s/step - loss: 0.3255 - accuracy: 0.8979 - val_loss: 23.5926 - val_accuracy: 0.5000\n",
            "Epoch 2/10\n",
            "64/64 [==============================] - 1355s 21s/step - loss: 0.0855 - accuracy: 0.9731 - val_loss: 4.3005 - val_accuracy: 0.7143\n",
            "Epoch 3/10\n",
            "64/64 [==============================] - 1360s 21s/step - loss: 0.0472 - accuracy: 0.9858 - val_loss: 2.4094 - val_accuracy: 0.8080\n",
            "Epoch 4/10\n",
            "64/64 [==============================] - 1406s 22s/step - loss: 0.0411 - accuracy: 0.9844 - val_loss: 0.6050 - val_accuracy: 0.8601\n",
            "Epoch 5/10\n",
            "64/64 [==============================] - 1403s 22s/step - loss: 0.0082 - accuracy: 0.9980 - val_loss: 0.0025 - val_accuracy: 1.0000\n",
            "Epoch 6/10\n",
            "21/64 [========>.....................] - ETA: 14:03 - loss: 2.3670e-04 - accuracy: 1.0000"
          ]
        }
      ]
    },
    {
      "cell_type": "markdown",
      "source": [
        "SAVING THE MODEL"
      ],
      "metadata": {
        "id": "-uvHWg5OrC7r"
      }
    },
    {
      "cell_type": "code",
      "source": [
        "model.save('/content/drive/MyDrive/kidneymodel/inception.h5')\n",
        "+7"
      ],
      "metadata": {
        "id": "re2S1WeZfJV8"
      },
      "execution_count": null,
      "outputs": []
    },
    {
      "cell_type": "markdown",
      "source": [
        "when testing on new image...from class normal"
      ],
      "metadata": {
        "id": "Jq-HjhHHk3Dx"
      }
    },
    {
      "cell_type": "code",
      "source": [
        "from tensorflow import keras\n",
        "model = keras.models.load_model('/content/drive/MyDrive/kidneymodel/inception.h5')"
      ],
      "metadata": {
        "id": "bN4R07NyX9Du"
      },
      "execution_count": null,
      "outputs": []
    },
    {
      "cell_type": "code",
      "source": [
        "from tensorflow.keras.preprocessing import image\n",
        "import numpy as np\n",
        "from tensorflow.keras.applications.inception_v3 import InceptionV3, preprocess_input\n",
        "\n",
        "img_height = 224\n",
        "img_width = 224\n",
        "\n",
        "# Load the image\n",
        "img = image.load_img('/content/drive/MyDrive/kidney/Normal/Normal- (1002).jpg', target_size=(img_height, img_width))\n",
        "\n",
        "# Preprocess the image\n",
        "img = image.img_to_array(img)\n",
        "img = np.expand_dims(img, axis=0)\n",
        "img = preprocess_input(img)\n",
        "\n",
        "# Make predictions\n",
        "preds = model.predict(img)\n",
        "\n",
        "print(preds)\n"
      ],
      "metadata": {
        "colab": {
          "base_uri": "https://localhost:8080/"
        },
        "id": "DoFV4-8KiQA6",
        "outputId": "034ef919-f402-462c-f9dc-3a57bc59d77c"
      },
      "execution_count": null,
      "outputs": [
        {
          "output_type": "stream",
          "name": "stdout",
          "text": [
            "1/1 [==============================] - 0s 86ms/step\n",
            "[[0.5074756]]\n"
          ]
        }
      ]
    },
    {
      "cell_type": "markdown",
      "source": [
        "So, in this case, the predicted class for the input image '/content/drive/MyDrive/kidney/Normal/Normal- (1002).jpg' would be a normal kidney, since the predicted probability (0.5074756) is lesser than the threshold of 0.5."
      ],
      "metadata": {
        "id": "k-AKi9vfkHbx"
      }
    },
    {
      "cell_type": "code",
      "source": [
        "from tensorflow.keras.preprocessing import image\n",
        "import numpy as np\n",
        "from tensorflow.keras.applications.inception_v3 import InceptionV3, preprocess_input\n",
        "\n",
        "img_height = 224\n",
        "img_width = 224\n",
        "\n",
        "# Load the image\n",
        "img = image.load_img('/content/drive/MyDrive/kidney/Stone/Stone- (210).jpg', target_size=(img_height, img_width))\n",
        "\n",
        "# Preprocess the image\n",
        "img = image.img_to_array(img)\n",
        "img = np.expand_dims(img, axis=0)\n",
        "img = preprocess_input(img)\n",
        "\n",
        "# Make predictions\n",
        "preds = model.predict(img)\n",
        "\n",
        "print(preds)\n"
      ],
      "metadata": {
        "colab": {
          "base_uri": "https://localhost:8080/"
        },
        "id": "EnW_CzuskIXt",
        "outputId": "2eccd098-df60-4a96-9f96-9a84327b4a44"
      },
      "execution_count": null,
      "outputs": [
        {
          "output_type": "stream",
          "name": "stdout",
          "text": [
            "1/1 [==============================] - 0s 73ms/step\n",
            "[[0.52406675]]\n"
          ]
        }
      ]
    },
    {
      "cell_type": "markdown",
      "source": [
        " the probability is 0.52, which is greater than 0.5, which means the model predicts that the input image contains a kidney stone."
      ],
      "metadata": {
        "id": "bpr6oDt6kipm"
      }
    },
    {
      "cell_type": "markdown",
      "source": [
        "output with printing stone or not"
      ],
      "metadata": {
        "id": "GBPSldZDpkrA"
      }
    },
    {
      "cell_type": "markdown",
      "source": [],
      "metadata": {
        "id": "lhrp6p3SpjGv"
      }
    },
    {
      "cell_type": "code",
      "source": [
        "img_height = 224\n",
        "img_width = 224\n",
        "img = image.load_img('/content/drive/MyDrive/kidney/Stone/Stone- (1016).jpg', target_size=(img_height, img_width))\n",
        "img = image.img_to_array(img)\n",
        "img = np.expand_dims(img, axis=0)\n",
        "img = preprocess_input(img)\n",
        "print(preds)\n",
        "preds = model.predict(img)\n",
        "threshold = 0.5\n",
        "if preds > threshold:\n",
        "    print(\"The input image contains a kidney stone.\")\n",
        "else:\n",
        "    print(\"The input image contains a normal kidney.\")\n"
      ],
      "metadata": {
        "colab": {
          "base_uri": "https://localhost:8080/"
        },
        "id": "XJFONtehovGB",
        "outputId": "9a083d13-114b-4da9-dfd5-8716f5a0644d"
      },
      "execution_count": null,
      "outputs": [
        {
          "output_type": "stream",
          "name": "stdout",
          "text": [
            "1/1 [==============================] - 0s 175ms/step\n",
            "[[0.5065489]]\n",
            "1/1 [==============================] - 0s 190ms/step\n",
            "The input image contains a kidney stone.\n"
          ]
        }
      ]
    },
    {
      "cell_type": "code",
      "source": [
        "img_height = 224\n",
        "img_width = 224\n",
        "img = image.load_img('/content/drive/MyDrive/kidney/Normal/Normal- (1108).jpg', target_size=(img_height, img_width))\n",
        "img = image.img_to_array(img)\n",
        "img = np.expand_dims(img, axis=0)\n",
        "img = preprocess_input(img)\n",
        "preds = model.predict(img)\n",
        "print(preds)\n",
        "threshold = 0.5\n",
        "if preds > threshold:\n",
        "    print(\"The input image contains a kidney stone.\")\n",
        "else:\n",
        "    print(\"The input image contains a normal kidney.\")\n"
      ],
      "metadata": {
        "colab": {
          "base_uri": "https://localhost:8080/"
        },
        "id": "SlL-QZMIpBBI",
        "outputId": "f3af04fe-082a-4bfb-9f51-bb3f37218ea8"
      },
      "execution_count": null,
      "outputs": [
        {
          "output_type": "stream",
          "name": "stdout",
          "text": [
            "1/1 [==============================] - 0s 165ms/step\n",
            "[[0.47391114]]\n",
            "The input image contains a normal kidney.\n"
          ]
        }
      ]
    },
    {
      "cell_type": "code",
      "source": [
        "img_height = 224\n",
        "img_width = 224\n",
        "img = image.load_img('/content/drive/MyDrive/kidney/Stone/Stone- (428).jpg', target_size=(img_height, img_width))\n",
        "img = image.img_to_array(img)\n",
        "img = np.expand_dims(img, axis=0)\n",
        "img = preprocess_input(img)\n",
        "preds = model.predict(img)\n",
        "print(preds)\n",
        "threshold = 0.5\n",
        "if preds > threshold:\n",
        "    print(\"The input image contains a kidney stone.\")\n",
        "else:\n",
        "    print(\"The input image contains a normal kidney.\")\n"
      ],
      "metadata": {
        "id": "5W-gp5wVOZxe",
        "colab": {
          "base_uri": "https://localhost:8080/"
        },
        "outputId": "ed64c449-c5fe-4062-d291-30878ad4d0f4"
      },
      "execution_count": null,
      "outputs": [
        {
          "output_type": "stream",
          "name": "stdout",
          "text": [
            "1/1 [==============================] - 0s 127ms/step\n",
            "[[0.50312525]]\n",
            "The input image contains a kidney stone.\n"
          ]
        }
      ]
    },
    {
      "cell_type": "code",
      "source": [],
      "metadata": {
        "id": "43ky68OJW8Q3"
      },
      "execution_count": null,
      "outputs": []
    }
  ]
}